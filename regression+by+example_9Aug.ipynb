{
 "cells": [
  {
   "cell_type": "code",
   "execution_count": 40,
   "metadata": {
    "collapsed": true,
    "deletable": true,
    "editable": true
   },
   "outputs": [],
   "source": [
    "import pandas as pd\n",
    "from pandas import DataFrame\n",
    "import matplotlib.pyplot as plt\n",
    "import statsmodels.formula.api as smf\n",
    "import scipy.stats\n",
    "from statsmodels.graphics.factorplots import interaction_plot\n",
    "from statsmodels.stats.anova import anova_lm\n",
    "import statsmodels.api as sm\n",
    "import seaborn\n",
    "%matplotlib inline"
   ]
  },
  {
   "cell_type": "code",
   "execution_count": 3,
   "metadata": {
    "collapsed": false,
    "deletable": true,
    "editable": true
   },
   "outputs": [],
   "source": [
    "xls_file=pd.ExcelFile('D:/RegressionByExample/ComputerRepair.xlsx')\n",
    "table=xls_file.parse('Sheet1')"
   ]
  },
  {
   "cell_type": "code",
   "execution_count": null,
   "metadata": {
    "collapsed": false,
    "deletable": true,
    "editable": true
   },
   "outputs": [],
   "source": [
    "m=pd.DataFrame(table)"
   ]
  },
  {
   "cell_type": "code",
   "execution_count": 7,
   "metadata": {
    "collapsed": false,
    "deletable": true,
    "editable": true
   },
   "outputs": [
    {
     "name": "stdout",
     "output_type": "stream",
     "text": [
      "             Minutes       Units\n",
      "Minutes  2136.027473  136.000000\n",
      "Units     136.000000    8.769231\n"
     ]
    }
   ],
   "source": [
    "print(m.cov())"
   ]
  },
  {
   "cell_type": "code",
   "execution_count": null,
   "metadata": {
    "collapsed": true,
    "deletable": true,
    "editable": true
   },
   "outputs": [],
   "source": [
    "#Covariance between min (length of service call as reponse variable) & units (electronic components)\n",
    "#covariance between minutes and units is 136"
   ]
  },
  {
   "cell_type": "code",
   "execution_count": 9,
   "metadata": {
    "collapsed": false,
    "deletable": true,
    "editable": true
   },
   "outputs": [
    {
     "name": "stdout",
     "output_type": "stream",
     "text": [
      "          Minutes     Units\n",
      "Minutes  1.000000  0.993699\n",
      "Units    0.993699  1.000000\n"
     ]
    }
   ],
   "source": [
    "print(m.corr())"
   ]
  },
  {
   "cell_type": "code",
   "execution_count": null,
   "metadata": {
    "collapsed": true,
    "deletable": true,
    "editable": true
   },
   "outputs": [],
   "source": [
    "#0.993 indicates strong relationship between Y & X"
   ]
  },
  {
   "cell_type": "code",
   "execution_count": 12,
   "metadata": {
    "collapsed": false,
    "deletable": true,
    "editable": true
   },
   "outputs": [
    {
     "data": {
      "text/plain": [
       "<matplotlib.collections.PathCollection at 0x1edc386e7f0>"
      ]
     },
     "execution_count": 12,
     "metadata": {},
     "output_type": "execute_result"
    },
    {
     "data": {
      "image/png": "[encoded data removed]",
      "text/plain": [
       "<matplotlib.figure.Figure at 0x1edc3888d68>"
      ]
     },
     "metadata": {},
     "output_type": "display_data"
    }
   ],
   "source": [
    "#plotting scatter plot between response and predictor variable\n",
    "plt.scatter(m['Minutes'],m['Units'])"
   ]
  },
  {
   "cell_type": "code",
   "execution_count": null,
   "metadata": {
    "collapsed": true,
    "deletable": true,
    "editable": true
   },
   "outputs": [],
   "source": [
    "#Plot shows linear relationship"
   ]
  },
  {
   "cell_type": "code",
   "execution_count": 13,
   "metadata": {
    "collapsed": false,
    "deletable": true,
    "editable": true
   },
   "outputs": [
    {
     "data": {
      "text/plain": [
       "Intercept     4.161654\n",
       "Units        15.508772\n",
       "dtype: float64"
      ]
     },
     "execution_count": 13,
     "metadata": {},
     "output_type": "execute_result"
    }
   ],
   "source": [
    "#Simple linear regression model \n",
    "import statsmodels.formula.api as smf\n",
    "\n",
    "# create a fitted model in one line\n",
    "lm = smf.ols(formula='Minutes ~ Units', data=m).fit()\n",
    "\n",
    "# print the coefficients\n",
    "lm.params"
   ]
  },
  {
   "cell_type": "code",
   "execution_count": 14,
   "metadata": {
    "collapsed": false,
    "deletable": true,
    "editable": true
   },
   "outputs": [
    {
     "data": {
      "text/plain": [
       "Intercept    2.385344e-01\n",
       "Units        8.916254e-13\n",
       "dtype: float64"
      ]
     },
     "execution_count": 14,
     "metadata": {},
     "output_type": "execute_result"
    }
   ],
   "source": [
    "# intercept of 4.161 implies that the setup or startup time for each repair is aprroximately 4 min\n",
    "# Unit = 15.5 implies that it takes additional 15.5 min for each additional component to be repaired\n",
    "#Statsmodels calculates 95% confidence intervals for our model coefficients, which are interpreted as follows: If the population from which this sample was drawn was sampled 100 times, approximately 95 of those confidence intervals would contain the \"true\" coefficient.\n",
    "\n",
    "# print the p-values for the model coefficients\n",
    "lm.pvalues"
   ]
  },
  {
   "cell_type": "markdown",
   "metadata": {
    "deletable": true,
    "editable": true
   },
   "source": [
    "As it relates to model coefficients, here is the conventional hypothesis test:\n",
    "• null hypothesis: There is no relationship between Minutes and Units (and thus $\\beta_1$ equals zero)\n",
    "• alternative hypothesis: There is a relationship between Minutes and Units (and thus $\\beta_1$ is not equal to zero)\n",
    "\n",
    "How do we test this hypothesis? Intuitively, we reject the null (and thus believe the alternative) if the 95% confidence interval does not include zero. Conversely, the p-value represents the probability that the coefficient is actually zero:\n"
   ]
  },
  {
   "cell_type": "markdown",
   "metadata": {
    "deletable": true,
    "editable": true
   },
   "source": [
    "#since p value is less than alpha =0.05 indicates hig significance implies predictor variables units is statstically significant predictor of response variable minutes\n"
   ]
  },
  {
   "cell_type": "code",
   "execution_count": 15,
   "metadata": {
    "collapsed": false,
    "deletable": true,
    "editable": true
   },
   "outputs": [
    {
     "data": {
      "text/plain": [
       "0.98743719806207364"
      ]
     },
     "execution_count": 15,
     "metadata": {},
     "output_type": "execute_result"
    }
   ],
   "source": [
    "# print the R-squared value for the model\n",
    "lm.rsquared"
   ]
  },
  {
   "cell_type": "code",
   "execution_count": 20,
   "metadata": {
    "collapsed": false,
    "deletable": true,
    "editable": true
   },
   "outputs": [
    {
     "name": "stderr",
     "output_type": "stream",
     "text": [
      "C:\\Users\\nisha\\AppData\\Local\\Enthought\\Canopy\\edm\\envs\\User\\lib\\site-packages\\scipy\\stats\\stats.py:1334: UserWarning: kurtosistest only valid for n>=20 ... continuing anyway, n=14\n",
      "  \"anyway, n=%i\" % int(n))\n"
     ]
    },
    {
     "data": {
      "text/html": [
       "<table class=\"simpletable\">\n",
       "<caption>OLS Regression Results</caption>\n",
       "<tr>\n",
       "  <th>Dep. Variable:</th>         <td>Minutes</td>     <th>  R-squared:         </th> <td>   0.987</td>\n",
       "</tr>\n",
       "<tr>\n",
       "  <th>Model:</th>                   <td>OLS</td>       <th>  Adj. R-squared:    </th> <td>   0.986</td>\n",
       "</tr>\n",
       "<tr>\n",
       "  <th>Method:</th>             <td>Least Squares</td>  <th>  F-statistic:       </th> <td>   943.2</td>\n",
       "</tr>\n",
       "<tr>\n",
       "  <th>Date:</th>             <td>Thu, 03 Aug 2017</td> <th>  Prob (F-statistic):</th> <td>8.92e-13</td>\n",
       "</tr>\n",
       "<tr>\n",
       "  <th>Time:</th>                 <td>11:50:30</td>     <th>  Log-Likelihood:    </th> <td> -42.374</td>\n",
       "</tr>\n",
       "<tr>\n",
       "  <th>No. Observations:</th>      <td>    14</td>      <th>  AIC:               </th> <td>   88.75</td>\n",
       "</tr>\n",
       "<tr>\n",
       "  <th>Df Residuals:</th>          <td>    12</td>      <th>  BIC:               </th> <td>   90.03</td>\n",
       "</tr>\n",
       "<tr>\n",
       "  <th>Df Model:</th>              <td>     1</td>      <th>                     </th>     <td> </td>   \n",
       "</tr>\n",
       "<tr>\n",
       "  <th>Covariance Type:</th>      <td>nonrobust</td>    <th>                     </th>     <td> </td>   \n",
       "</tr>\n",
       "</table>\n",
       "<table class=\"simpletable\">\n",
       "<tr>\n",
       "      <td></td>         <th>coef</th>     <th>std err</th>      <th>t</th>      <th>P>|t|</th>  <th>[0.025</th>    <th>0.975]</th>  \n",
       "</tr>\n",
       "<tr>\n",
       "  <th>Intercept</th> <td>    4.1617</td> <td>    3.355</td> <td>    1.240</td> <td> 0.239</td> <td>   -3.148</td> <td>   11.472</td>\n",
       "</tr>\n",
       "<tr>\n",
       "  <th>Units</th>     <td>   15.5088</td> <td>    0.505</td> <td>   30.712</td> <td> 0.000</td> <td>   14.409</td> <td>   16.609</td>\n",
       "</tr>\n",
       "</table>\n",
       "<table class=\"simpletable\">\n",
       "<tr>\n",
       "  <th>Omnibus:</th>       <td> 0.746</td> <th>  Durbin-Watson:     </th> <td>   2.051</td>\n",
       "</tr>\n",
       "<tr>\n",
       "  <th>Prob(Omnibus):</th> <td> 0.689</td> <th>  Jarque-Bera (JB):  </th> <td>   0.624</td>\n",
       "</tr>\n",
       "<tr>\n",
       "  <th>Skew:</th>          <td>-0.069</td> <th>  Prob(JB):          </th> <td>   0.732</td>\n",
       "</tr>\n",
       "<tr>\n",
       "  <th>Kurtosis:</th>      <td> 1.975</td> <th>  Cond. No.          </th> <td>    15.8</td>\n",
       "</tr>\n",
       "</table>"
      ],
      "text/plain": [
       "<class 'statsmodels.iolib.summary.Summary'>\n",
       "\"\"\"\n",
       "                            OLS Regression Results                            \n",
       "==============================================================================\n",
       "Dep. Variable:                Minutes   R-squared:                       0.987\n",
       "Model:                            OLS   Adj. R-squared:                  0.986\n",
       "Method:                 Least Squares   F-statistic:                     943.2\n",
       "Date:                Thu, 03 Aug 2017   Prob (F-statistic):           8.92e-13\n",
       "Time:                        11:50:30   Log-Likelihood:                -42.374\n",
       "No. Observations:                  14   AIC:                             88.75\n",
       "Df Residuals:                      12   BIC:                             90.03\n",
       "Df Model:                           1                                         \n",
       "Covariance Type:            nonrobust                                         \n",
       "==============================================================================\n",
       "                 coef    std err          t      P>|t|      [0.025      0.975]\n",
       "------------------------------------------------------------------------------\n",
       "Intercept      4.1617      3.355      1.240      0.239      -3.148      11.472\n",
       "Units         15.5088      0.505     30.712      0.000      14.409      16.609\n",
       "==============================================================================\n",
       "Omnibus:                        0.746   Durbin-Watson:                   2.051\n",
       "Prob(Omnibus):                  0.689   Jarque-Bera (JB):                0.624\n",
       "Skew:                          -0.069   Prob(JB):                        0.732\n",
       "Kurtosis:                       1.975   Cond. No.                         15.8\n",
       "==============================================================================\n",
       "\n",
       "Warnings:\n",
       "[1] Standard Errors assume that the covariance matrix of the errors is correctly specified.\n",
       "\"\"\""
      ]
     },
     "execution_count": 20,
     "metadata": {},
     "output_type": "execute_result"
    }
   ],
   "source": [
    "#summary of regression\n",
    "lm.summary()"
   ]
  },
  {
   "cell_type": "code",
   "execution_count": 21,
   "metadata": {
    "collapsed": false,
    "deletable": true,
    "editable": true
   },
   "outputs": [
    {
     "data": {
      "text/html": [
       "<div>\n",
       "<table border=\"1\" class=\"dataframe\">\n",
       "  <thead>\n",
       "    <tr style=\"text-align: right;\">\n",
       "      <th></th>\n",
       "      <th>Minutes</th>\n",
       "      <th>Units</th>\n",
       "    </tr>\n",
       "  </thead>\n",
       "  <tbody>\n",
       "    <tr>\n",
       "      <th>0</th>\n",
       "      <td>23</td>\n",
       "      <td>1</td>\n",
       "    </tr>\n",
       "    <tr>\n",
       "      <th>1</th>\n",
       "      <td>29</td>\n",
       "      <td>2</td>\n",
       "    </tr>\n",
       "    <tr>\n",
       "      <th>2</th>\n",
       "      <td>49</td>\n",
       "      <td>3</td>\n",
       "    </tr>\n",
       "    <tr>\n",
       "      <th>3</th>\n",
       "      <td>64</td>\n",
       "      <td>4</td>\n",
       "    </tr>\n",
       "    <tr>\n",
       "      <th>4</th>\n",
       "      <td>74</td>\n",
       "      <td>4</td>\n",
       "    </tr>\n",
       "    <tr>\n",
       "      <th>5</th>\n",
       "      <td>87</td>\n",
       "      <td>5</td>\n",
       "    </tr>\n",
       "    <tr>\n",
       "      <th>6</th>\n",
       "      <td>96</td>\n",
       "      <td>6</td>\n",
       "    </tr>\n",
       "    <tr>\n",
       "      <th>7</th>\n",
       "      <td>97</td>\n",
       "      <td>6</td>\n",
       "    </tr>\n",
       "    <tr>\n",
       "      <th>8</th>\n",
       "      <td>109</td>\n",
       "      <td>7</td>\n",
       "    </tr>\n",
       "    <tr>\n",
       "      <th>9</th>\n",
       "      <td>119</td>\n",
       "      <td>8</td>\n",
       "    </tr>\n",
       "    <tr>\n",
       "      <th>10</th>\n",
       "      <td>149</td>\n",
       "      <td>9</td>\n",
       "    </tr>\n",
       "    <tr>\n",
       "      <th>11</th>\n",
       "      <td>145</td>\n",
       "      <td>9</td>\n",
       "    </tr>\n",
       "    <tr>\n",
       "      <th>12</th>\n",
       "      <td>154</td>\n",
       "      <td>10</td>\n",
       "    </tr>\n",
       "    <tr>\n",
       "      <th>13</th>\n",
       "      <td>166</td>\n",
       "      <td>10</td>\n",
       "    </tr>\n",
       "  </tbody>\n",
       "</table>\n",
       "</div>"
      ],
      "text/plain": [
       "    Minutes  Units\n",
       "0        23      1\n",
       "1        29      2\n",
       "2        49      3\n",
       "3        64      4\n",
       "4        74      4\n",
       "5        87      5\n",
       "6        96      6\n",
       "7        97      6\n",
       "8       109      7\n",
       "9       119      8\n",
       "10      149      9\n",
       "11      145      9\n",
       "12      154     10\n",
       "13      166     10"
      ]
     },
     "execution_count": 21,
     "metadata": {},
     "output_type": "execute_result"
    }
   ],
   "source": [
    "m"
   ]
  },
  {
   "cell_type": "code",
   "execution_count": 23,
   "metadata": {
    "collapsed": false,
    "deletable": true,
    "editable": true
   },
   "outputs": [
    {
     "data": {
      "text/plain": [
       "56.477684407018984"
      ]
     },
     "execution_count": 23,
     "metadata": {},
     "output_type": "execute_result"
    }
   ],
   "source": [
    "#calculating standard deviation\n",
    "m.stack().std() "
   ]
  },
  {
   "cell_type": "code",
   "execution_count": 7,
   "metadata": {
    "collapsed": true,
    "deletable": true,
    "editable": true
   },
   "outputs": [],
   "source": [
    "#Multiple linear regression\n",
    "xls_file=pd.ExcelFile('D:/RegressionByExample/SupervisorPerformance.xlsx')\n",
    "t1=xls_file.parse('Sheet1')\n",
    "m1=pd.DataFrame(t1)"
   ]
  },
  {
   "cell_type": "code",
   "execution_count": 25,
   "metadata": {
    "collapsed": false,
    "deletable": true,
    "editable": true
   },
   "outputs": [
    {
     "data": {
      "text/html": [
       "<div>\n",
       "<table border=\"1\" class=\"dataframe\">\n",
       "  <thead>\n",
       "    <tr style=\"text-align: right;\">\n",
       "      <th></th>\n",
       "      <th>Y</th>\n",
       "      <th>X1</th>\n",
       "      <th>X2</th>\n",
       "      <th>X3</th>\n",
       "      <th>X4</th>\n",
       "      <th>X5</th>\n",
       "      <th>X6</th>\n",
       "    </tr>\n",
       "  </thead>\n",
       "  <tbody>\n",
       "    <tr>\n",
       "      <th>Y</th>\n",
       "      <td>148.171264</td>\n",
       "      <td>133.779310</td>\n",
       "      <td>63.464368</td>\n",
       "      <td>89.104598</td>\n",
       "      <td>74.688506</td>\n",
       "      <td>18.842529</td>\n",
       "      <td>19.422989</td>\n",
       "    </tr>\n",
       "    <tr>\n",
       "      <th>X1</th>\n",
       "      <td>133.779310</td>\n",
       "      <td>177.282759</td>\n",
       "      <td>90.951724</td>\n",
       "      <td>93.255172</td>\n",
       "      <td>92.641379</td>\n",
       "      <td>24.731034</td>\n",
       "      <td>30.765517</td>\n",
       "    </tr>\n",
       "    <tr>\n",
       "      <th>X2</th>\n",
       "      <td>63.464368</td>\n",
       "      <td>90.951724</td>\n",
       "      <td>149.705747</td>\n",
       "      <td>70.845977</td>\n",
       "      <td>56.671264</td>\n",
       "      <td>17.825287</td>\n",
       "      <td>43.216092</td>\n",
       "    </tr>\n",
       "    <tr>\n",
       "      <th>X3</th>\n",
       "      <td>89.104598</td>\n",
       "      <td>93.255172</td>\n",
       "      <td>70.845977</td>\n",
       "      <td>137.757471</td>\n",
       "      <td>78.139080</td>\n",
       "      <td>13.467816</td>\n",
       "      <td>64.197701</td>\n",
       "    </tr>\n",
       "    <tr>\n",
       "      <th>X4</th>\n",
       "      <td>74.688506</td>\n",
       "      <td>92.641379</td>\n",
       "      <td>56.671264</td>\n",
       "      <td>78.139080</td>\n",
       "      <td>108.102299</td>\n",
       "      <td>38.773563</td>\n",
       "      <td>61.422989</td>\n",
       "    </tr>\n",
       "    <tr>\n",
       "      <th>X5</th>\n",
       "      <td>18.842529</td>\n",
       "      <td>24.731034</td>\n",
       "      <td>17.825287</td>\n",
       "      <td>13.467816</td>\n",
       "      <td>38.773563</td>\n",
       "      <td>97.909195</td>\n",
       "      <td>28.845977</td>\n",
       "    </tr>\n",
       "    <tr>\n",
       "      <th>X6</th>\n",
       "      <td>19.422989</td>\n",
       "      <td>30.765517</td>\n",
       "      <td>43.216092</td>\n",
       "      <td>64.197701</td>\n",
       "      <td>61.422989</td>\n",
       "      <td>28.845977</td>\n",
       "      <td>105.857471</td>\n",
       "    </tr>\n",
       "  </tbody>\n",
       "</table>\n",
       "</div>"
      ],
      "text/plain": [
       "             Y          X1          X2          X3          X4         X5  \\\n",
       "Y   148.171264  133.779310   63.464368   89.104598   74.688506  18.842529   \n",
       "X1  133.779310  177.282759   90.951724   93.255172   92.641379  24.731034   \n",
       "X2   63.464368   90.951724  149.705747   70.845977   56.671264  17.825287   \n",
       "X3   89.104598   93.255172   70.845977  137.757471   78.139080  13.467816   \n",
       "X4   74.688506   92.641379   56.671264   78.139080  108.102299  38.773563   \n",
       "X5   18.842529   24.731034   17.825287   13.467816   38.773563  97.909195   \n",
       "X6   19.422989   30.765517   43.216092   64.197701   61.422989  28.845977   \n",
       "\n",
       "            X6  \n",
       "Y    19.422989  \n",
       "X1   30.765517  \n",
       "X2   43.216092  \n",
       "X3   64.197701  \n",
       "X4   61.422989  \n",
       "X5   28.845977  \n",
       "X6  105.857471  "
      ]
     },
     "execution_count": 25,
     "metadata": {},
     "output_type": "execute_result"
    }
   ],
   "source": [
    "m1.cov()"
   ]
  },
  {
   "cell_type": "code",
   "execution_count": 27,
   "metadata": {
    "collapsed": false,
    "deletable": true,
    "editable": true
   },
   "outputs": [
    {
     "data": {
      "text/plain": [
       "array([[<matplotlib.axes._subplots.AxesSubplot object at 0x000001EDC56B5EF0>,\n",
       "        <matplotlib.axes._subplots.AxesSubplot object at 0x000001EDC5BBF4E0>,\n",
       "        <matplotlib.axes._subplots.AxesSubplot object at 0x000001EDC5C0C9E8>,\n",
       "        <matplotlib.axes._subplots.AxesSubplot object at 0x000001EDC5C4E208>,\n",
       "        <matplotlib.axes._subplots.AxesSubplot object at 0x000001EDC5C9C710>,\n",
       "        <matplotlib.axes._subplots.AxesSubplot object at 0x000001EDC5CDAF28>,\n",
       "        <matplotlib.axes._subplots.AxesSubplot object at 0x000001EDC5D2C0B8>],\n",
       "       [<matplotlib.axes._subplots.AxesSubplot object at 0x000001EDC5D6AD68>,\n",
       "        <matplotlib.axes._subplots.AxesSubplot object at 0x000001EDC5DB5F98>,\n",
       "        <matplotlib.axes._subplots.AxesSubplot object at 0x000001EDC5DFABA8>,\n",
       "        <matplotlib.axes._subplots.AxesSubplot object at 0x000001EDC5E4C0F0>,\n",
       "        <matplotlib.axes._subplots.AxesSubplot object at 0x000001EDC5E10EB8>,\n",
       "        <matplotlib.axes._subplots.AxesSubplot object at 0x000001EDC5EDC208>,\n",
       "        <matplotlib.axes._subplots.AxesSubplot object at 0x000001EDC5F28438>],\n",
       "       [<matplotlib.axes._subplots.AxesSubplot object at 0x000001EDC5F46518>,\n",
       "        <matplotlib.axes._subplots.AxesSubplot object at 0x000001EDC5F99400>,\n",
       "        <matplotlib.axes._subplots.AxesSubplot object at 0x000001EDC5FD7828>,\n",
       "        <matplotlib.axes._subplots.AxesSubplot object at 0x000001EDC6025860>,\n",
       "        <matplotlib.axes._subplots.AxesSubplot object at 0x000001EDC606D208>,\n",
       "        <matplotlib.axes._subplots.AxesSubplot object at 0x000001EDC60BA550>,\n",
       "        <matplotlib.axes._subplots.AxesSubplot object at 0x000001EDC60FD8D0>],\n",
       "       [<matplotlib.axes._subplots.AxesSubplot object at 0x000001EDC614BDD8>,\n",
       "        <matplotlib.axes._subplots.AxesSubplot object at 0x000001EDC6190710>,\n",
       "        <matplotlib.axes._subplots.AxesSubplot object at 0x000001EDC61DABE0>,\n",
       "        <matplotlib.axes._subplots.AxesSubplot object at 0x000001EDC6221550>,\n",
       "        <matplotlib.axes._subplots.AxesSubplot object at 0x000001EDC626DA20>,\n",
       "        <matplotlib.axes._subplots.AxesSubplot object at 0x000001EDC6282BE0>,\n",
       "        <matplotlib.axes._subplots.AxesSubplot object at 0x000001EDC62FE860>],\n",
       "       [<matplotlib.axes._subplots.AxesSubplot object at 0x000001EDC634BB70>,\n",
       "        <matplotlib.axes._subplots.AxesSubplot object at 0x000001EDC638E4E0>,\n",
       "        <matplotlib.axes._subplots.AxesSubplot object at 0x000001EDC63DB7F0>,\n",
       "        <matplotlib.axes._subplots.AxesSubplot object at 0x000001EDC6420358>,\n",
       "        <matplotlib.axes._subplots.AxesSubplot object at 0x000001EDC743D2B0>,\n",
       "        <matplotlib.axes._subplots.AxesSubplot object at 0x000001EDC7480CF8>,\n",
       "        <matplotlib.axes._subplots.AxesSubplot object at 0x000001EDC74D2080>],\n",
       "       [<matplotlib.axes._subplots.AxesSubplot object at 0x000001EDC7516400>,\n",
       "        <matplotlib.axes._subplots.AxesSubplot object at 0x000001EDC7562908>,\n",
       "        <matplotlib.axes._subplots.AxesSubplot object at 0x000001EDC60DEE10>,\n",
       "        <matplotlib.axes._subplots.AxesSubplot object at 0x000001EDC75D7CC0>,\n",
       "        <matplotlib.axes._subplots.AxesSubplot object at 0x000001EDC75EE128>,\n",
       "        <matplotlib.axes._subplots.AxesSubplot object at 0x000001EDC7667EB8>,\n",
       "        <matplotlib.axes._subplots.AxesSubplot object at 0x000001EDC76BC208>],\n",
       "       [<matplotlib.axes._subplots.AxesSubplot object at 0x000001EDC76F9B00>,\n",
       "        <matplotlib.axes._subplots.AxesSubplot object at 0x000001EDC7746E10>,\n",
       "        <matplotlib.axes._subplots.AxesSubplot object at 0x000001EDC778A978>,\n",
       "        <matplotlib.axes._subplots.AxesSubplot object at 0x000001EDC77D98D0>,\n",
       "        <matplotlib.axes._subplots.AxesSubplot object at 0x000001EDC7820358>,\n",
       "        <matplotlib.axes._subplots.AxesSubplot object at 0x000001EDC786E6A0>,\n",
       "        <matplotlib.axes._subplots.AxesSubplot object at 0x000001EDC78B1A20>]], dtype=object)"
      ]
     },
     "execution_count": 27,
     "metadata": {},
     "output_type": "execute_result"
    },
    {
     "data": {
      "image/png": "[encoded data removed]",
      "text/plain": [
       "<matplotlib.figure.Figure at 0x1edc38a2668>"
      ]
     },
     "metadata": {},
     "output_type": "display_data"
    }
   ],
   "source": [
    "from pandas import scatter_matrix\n",
    "scatter_matrix(m1,diagonal='kde',alpha=0.3)"
   ]
  },
  {
   "cell_type": "code",
   "execution_count": 8,
   "metadata": {
    "collapsed": false,
    "deletable": true,
    "editable": true
   },
   "outputs": [
    {
     "data": {
      "text/html": [
       "<table class=\"simpletable\">\n",
       "<caption>OLS Regression Results</caption>\n",
       "<tr>\n",
       "  <th>Dep. Variable:</th>            <td>Y</td>        <th>  R-squared:         </th> <td>   0.733</td>\n",
       "</tr>\n",
       "<tr>\n",
       "  <th>Model:</th>                   <td>OLS</td>       <th>  Adj. R-squared:    </th> <td>   0.663</td>\n",
       "</tr>\n",
       "<tr>\n",
       "  <th>Method:</th>             <td>Least Squares</td>  <th>  F-statistic:       </th> <td>   10.50</td>\n",
       "</tr>\n",
       "<tr>\n",
       "  <th>Date:</th>             <td>Tue, 08 Aug 2017</td> <th>  Prob (F-statistic):</th> <td>1.24e-05</td>\n",
       "</tr>\n",
       "<tr>\n",
       "  <th>Time:</th>                 <td>14:34:36</td>     <th>  Log-Likelihood:    </th> <td> -97.250</td>\n",
       "</tr>\n",
       "<tr>\n",
       "  <th>No. Observations:</th>      <td>    30</td>      <th>  AIC:               </th> <td>   208.5</td>\n",
       "</tr>\n",
       "<tr>\n",
       "  <th>Df Residuals:</th>          <td>    23</td>      <th>  BIC:               </th> <td>   218.3</td>\n",
       "</tr>\n",
       "<tr>\n",
       "  <th>Df Model:</th>              <td>     6</td>      <th>                     </th>     <td> </td>   \n",
       "</tr>\n",
       "<tr>\n",
       "  <th>Covariance Type:</th>      <td>nonrobust</td>    <th>                     </th>     <td> </td>   \n",
       "</tr>\n",
       "</table>\n",
       "<table class=\"simpletable\">\n",
       "<tr>\n",
       "      <td></td>         <th>coef</th>     <th>std err</th>      <th>t</th>      <th>P>|t|</th>  <th>[0.025</th>    <th>0.975]</th>  \n",
       "</tr>\n",
       "<tr>\n",
       "  <th>Intercept</th> <td>   10.7871</td> <td>   11.589</td> <td>    0.931</td> <td> 0.362</td> <td>  -13.187</td> <td>   34.761</td>\n",
       "</tr>\n",
       "<tr>\n",
       "  <th>X1</th>        <td>    0.6132</td> <td>    0.161</td> <td>    3.809</td> <td> 0.001</td> <td>    0.280</td> <td>    0.946</td>\n",
       "</tr>\n",
       "<tr>\n",
       "  <th>X2</th>        <td>   -0.0731</td> <td>    0.136</td> <td>   -0.538</td> <td> 0.596</td> <td>   -0.354</td> <td>    0.208</td>\n",
       "</tr>\n",
       "<tr>\n",
       "  <th>X3</th>        <td>    0.3203</td> <td>    0.169</td> <td>    1.901</td> <td> 0.070</td> <td>   -0.028</td> <td>    0.669</td>\n",
       "</tr>\n",
       "<tr>\n",
       "  <th>X4</th>        <td>    0.0817</td> <td>    0.221</td> <td>    0.369</td> <td> 0.715</td> <td>   -0.376</td> <td>    0.540</td>\n",
       "</tr>\n",
       "<tr>\n",
       "  <th>X5</th>        <td>    0.0384</td> <td>    0.147</td> <td>    0.261</td> <td> 0.796</td> <td>   -0.266</td> <td>    0.342</td>\n",
       "</tr>\n",
       "<tr>\n",
       "  <th>X6</th>        <td>   -0.2171</td> <td>    0.178</td> <td>   -1.218</td> <td> 0.236</td> <td>   -0.586</td> <td>    0.152</td>\n",
       "</tr>\n",
       "</table>\n",
       "<table class=\"simpletable\">\n",
       "<tr>\n",
       "  <th>Omnibus:</th>       <td> 2.386</td> <th>  Durbin-Watson:     </th> <td>   1.795</td>\n",
       "</tr>\n",
       "<tr>\n",
       "  <th>Prob(Omnibus):</th> <td> 0.303</td> <th>  Jarque-Bera (JB):  </th> <td>   1.255</td>\n",
       "</tr>\n",
       "<tr>\n",
       "  <th>Skew:</th>          <td>-0.081</td> <th>  Prob(JB):          </th> <td>   0.534</td>\n",
       "</tr>\n",
       "<tr>\n",
       "  <th>Kurtosis:</th>      <td> 2.011</td> <th>  Cond. No.          </th> <td>1.34e+03</td>\n",
       "</tr>\n",
       "</table>"
      ],
      "text/plain": [
       "<class 'statsmodels.iolib.summary.Summary'>\n",
       "\"\"\"\n",
       "                            OLS Regression Results                            \n",
       "==============================================================================\n",
       "Dep. Variable:                      Y   R-squared:                       0.733\n",
       "Model:                            OLS   Adj. R-squared:                  0.663\n",
       "Method:                 Least Squares   F-statistic:                     10.50\n",
       "Date:                Tue, 08 Aug 2017   Prob (F-statistic):           1.24e-05\n",
       "Time:                        14:34:36   Log-Likelihood:                -97.250\n",
       "No. Observations:                  30   AIC:                             208.5\n",
       "Df Residuals:                      23   BIC:                             218.3\n",
       "Df Model:                           6                                         \n",
       "Covariance Type:            nonrobust                                         \n",
       "==============================================================================\n",
       "                 coef    std err          t      P>|t|      [0.025      0.975]\n",
       "------------------------------------------------------------------------------\n",
       "Intercept     10.7871     11.589      0.931      0.362     -13.187      34.761\n",
       "X1             0.6132      0.161      3.809      0.001       0.280       0.946\n",
       "X2            -0.0731      0.136     -0.538      0.596      -0.354       0.208\n",
       "X3             0.3203      0.169      1.901      0.070      -0.028       0.669\n",
       "X4             0.0817      0.221      0.369      0.715      -0.376       0.540\n",
       "X5             0.0384      0.147      0.261      0.796      -0.266       0.342\n",
       "X6            -0.2171      0.178     -1.218      0.236      -0.586       0.152\n",
       "==============================================================================\n",
       "Omnibus:                        2.386   Durbin-Watson:                   1.795\n",
       "Prob(Omnibus):                  0.303   Jarque-Bera (JB):                1.255\n",
       "Skew:                          -0.081   Prob(JB):                        0.534\n",
       "Kurtosis:                       2.011   Cond. No.                     1.34e+03\n",
       "==============================================================================\n",
       "\n",
       "Warnings:\n",
       "[1] Standard Errors assume that the covariance matrix of the errors is correctly specified.\n",
       "[2] The condition number is large, 1.34e+03. This might indicate that there are\n",
       "strong multicollinearity or other numerical problems.\n",
       "\"\"\""
      ]
     },
     "execution_count": 8,
     "metadata": {},
     "output_type": "execute_result"
    }
   ],
   "source": [
    "lm1 = smf.ols(formula='Y~X1+X2+X3+X4+X5+X6', data=m1).fit()\n",
    "lm1.summary()"
   ]
  },
  {
   "cell_type": "markdown",
   "metadata": {
    "deletable": true,
    "editable": true
   },
   "source": [
    "Interpretation of result (source: http://connor-johnson.com/2014/02/18/linear-regression-with-python/)\n",
    "And now we have a very nice table of mostly meaningless numbers. I’ll go through and explain each one. The left column of the first table is mostly self explanatory. The degrees of freedom of the model are the number of predictor, or explanatory variables. The degrees of freedom of the residuals is the number of observations minus the degrees of freedom of the model, minus one.\n",
    "\n",
    "Most of the values listed in the summary are available via the result object. For instance, the R2 value is obtained by result.rsquared. If you are using IPython, you may type results. and hit the TAB key, and a list of attributes for the results object will drop down.\n",
    "\n",
    "R2\n",
    "The R^{2} term is the coefficient of determination and it usually reflects how well the model fits the observed data. \n",
    "\n",
    "Adjusted R2\n",
    "As you incorporate more predictor variables then R^{2} typically increases because you’re trying to map a much larger \n",
    "input space onto a single scalar prediction. This is known as the Curse of Dimensionality. (Dunh duh DUUUUNH!) \n",
    "The adjusted R^{2} takes into account the number of predictor variables (the degrees of freedom) and number of\n",
    "observations. \n",
    "\n",
    "F-statistic\n",
    "N.B. In the following discussion of F-tests and t-tests, please bear in mind that squinting over a p-values at \\alpha significance levels is silly, because your model is built upon simplifying and inaccurate assumptions. Hypothesis testing should guide your decision making, not dictate it.\n",
    "\n",
    "That being said, the null hypothesis of the F-test is that the data can be modeled accurately by setting the regression coefficients to zero. The alternative hypothesis is that at least one of the regression coefficients should be non-zero. If the F-distribution provides a p-value that is lower than some threshold \\alpha = 0.05, 0.01, then we reject the null hypothesis, and and say that our model is, in fact, “doing something with its life.” \n",
    "\n",
    "Log-Likelihood\n",
    "\n",
    "If we have several possible models, and we assume that the errors for each of the models are normally distributed about zero, then we can write the likelihood function for a single model as,\n",
    "\n",
    "\n",
    "AIC and BIC\n",
    "\n",
    "The Akaike information criterion (AIC) and the Bayesian information criterion (BIC) are based on the log-likelihood described in the previous section. Both measures introduce a penalty for model complexity, but the AIC penalizes complexity less severely than the BIC. The AIC and BIC are given by,\n",
    "The AIC is a relative estimate of information loss between different models. The BIC was initially proposed using a Bayesian argument, and is not related to ideas of information. Both measures are only used when trying to decide between different models. So, if you have one regression for alcohol sales based on cigarette sales, and another model for alcohol consumption that incorporated cigarette sales and lighter sales, then you would be inclined to choose the model that had the lower AIC or BIC value.\n",
    "\n",
    "Coefficients\n",
    "The coefficients or weights of the linear regression are contained in the attribute params, and returned as a pandas Series object, since we used a pandas DataFrame as input. This is nice, because the coefficients are named for convenience.\n",
    "\n",
    "Standard Error\n",
    "we will calculate the covariance-variance matrix, also called the covariance matrix, for the estimated coefficients The standard errors are the square roots of the elements on the main diagonal of this covariance matrix. \n",
    "\n",
    "t-statistic\n",
    "We use the t-test to test the null hypothesis that the coefficient of a given predictor variable is zero, implying that a given predictor has no appreciable effect on the response variable. The alternative hypothesis is that the predictor does contribute to the response. In testing we set some threshold, \\alpha = 0.05, 0.01, and if \\Pr(T \\ge \\vert t \\vert) \\textless \\alpha, then we reject the null hypothesis at our threshold alpha, otherwise we fail to reject the null hypothesis. The t-test generally allows us to evaluate the importance of different predictors, assuming that the residuals of the model are normally distributed about zero. If the residuals do not behave in this manner, then that suggests that there is some non-linearity between the variables, and that their t-tests should not be used to asses the importance of individual predictors. Furthermore, it might be best to try to modify the model so that the residuals do tend the cluster normally about zero.\n",
    "\n",
    "Confidence Interval\n",
    "The confidence interval is built using the standard error, the p-value from our T-test, and a critical value from a T-test having N-P degrees of freedom, where N is the number of observations and P is the number of model parameters, i.e., the number of predictor variables. The confidence interval is the the range of values we’d expect to find the parameter of interest, based on what we’ve observed. You will note that we have a confidence interval for predictor variable coefficient, and the constant term. A smaller confidence interval suggests that we are confident about the value of the estimated coefficient, or constant term. A larger confidence interval suggests that there is more uncertainty or variance in the estimated term. Again, let me reiterate that hypothesis testing is only one perspective. Furthermore, it is a perspective that was developed in the late nineteenth and early twentieth centuries when data sets were generally smaller and more expensive to gather, and data scientists were using books of logarithm tables for arithmetic.\n",
    "\n",
    "Skewness and Kurtosis\n",
    "Skew and kurtosis refer to the shape of a (normal) distribution. Skewness is a measure of the asymmetry of a distribution, and kurtosis is a measure of its curvature, specifically how peaked the curve is.\n",
    "\n",
    "Omnibus Test\n",
    "The Omnibus test uses skewness and kurtosis to test the null hypothesis that a distribution is normal. In this case, we’re looking at the distribution of the residual. If we obtain a very small value for \\Pr( \\mbox{ Omnibus } ), then the residuals are not normally distributed about zero, and we should maybe look at our model more closely. The statsmodels OLS function uses the scipy.stats.normaltest() function. If you’re interested, the K2 test developed by D’Agostino, D’Agostino Jr., and Belanger 1, with a correction added by Royston 2, is presented below, which is adapted from a random Stata manual I found 3. It’s a real booger.\n",
    "Thus, if either the skewness or kurtosis suggests non-normality, this test should pick it up.\n",
    "\n",
    "Durbin-Watson\n",
    "The Durbin-Watson test checks for autocorrelation by looking at he residuals separated by some lag; here the lag is one.The Durbin-Watson statistic is approximately equal to 2(1-r), where r is the sample autocorrelation. The statistic ranges from zero to four, and a value around two suggests that there is no autocorrelation. Values greater than two suggest negative correlation, and values less that one suggest positive correlation.\n",
    "\n",
    "Jarque-Bera Test\n",
    "The Jarque-Bera test is another test that considers skewness (S), and kurtosis (K). The null hypothesis is that the distribution is normal, that both the skewness and excess kurtosis equal zero, or alternatively, that the skewness is zero and the regular run-of-the-mill kurtosis is three. Unfortunately, with small samples the Jarque-Bera test is prone rejecting the null hypothesis–that the distribution is normal–when it is in fact true.\n",
    "\n",
    "Condition Number\n",
    "The condition number measures the sensitivity of a function’s output to its input. When two predictor variables are highly correlated, which is called multicolinearity, the coefficients or factors of those predictor variables can fluctuate erratically for small changes in the data, or the model. Ideally, similar models should be similar, i.e., have approximately equal coefficients. Multicolinearity can cause numerical matrix inversion to crap out, or produce inaccurate results. One approach to this problem in regression is the technique of ridge regression, which is available in the sklearn Python module.We calculate the condition number by taking the eigenvalues of the product of the predictor variables (including the constant vector of ones) and then taking the square root of the ratio of the largest eigenvalue to the least eigenvlaue. If the condition number is greater than thirty, then the regression may have multicolinearity."
   ]
  },
  {
   "cell_type": "markdown",
   "metadata": {
    "collapsed": true,
    "deletable": true,
    "editable": true
   },
   "source": [
    "#a centered variable is obtained by subtracting from each observation the mean of the observation\n",
    "#Two type of scaling \n",
    "a) Unit lenth scaling post centered\n",
    "z(y) = (Y - Y_bar)/(L(y))\n",
    "L(y) = (Sigma (Y - Y_bar)^2)^0.5\n",
    "\n",
    "z(j) = (X(J) - X(J)_bar/(L(j))\n",
    "L(j) = (Sigma (X(IJ) - X(J)_bar)^2)^0.5\n",
    "\n",
    "b) Standardization\n",
    "Y_bar = (Y-Y_bar)/s(y)\n",
    "s(y) and s(j)are standard deviation\n",
    "\n",
    "X_bar(j) = (X(J)-(X_Bar(J))/s(j)\n",
    "\n",
    "second type of scaling can be done using standard scaler from scikit learn\n",
    "\n",
    "##In no intercept model Y_bar and x_Bar will be zero in above formula"
   ]
  },
  {
   "cell_type": "markdown",
   "metadata": {
    "collapsed": true,
    "deletable": true,
    "editable": true
   },
   "source": [
    "#to obtain beta from standardized and scales variables is as follows\n",
    "Beta (j) = (s(y)/s(j))Theta(j)\n",
    "Beta_naught=Y_bar-(Sigma(Beta(j)*X_Bar(j))\n",
    "\n",
    "The regression coefficient obtained using standardized version of variable are often refferred to as Beta coefficient. Theta(j) measures the change in standardized unit Y corresponding to an increase of one standard deviation unit in x(j)"
   ]
  },
  {
   "cell_type": "markdown",
   "metadata": {
    "collapsed": true,
    "deletable": true,
    "editable": true
   },
   "source": [
    "#Properties of the least square estimates\n"
   ]
  },
  {
   "cell_type": "code",
   "execution_count": 5,
   "metadata": {
    "collapsed": false,
    "deletable": true,
    "editable": true
   },
   "outputs": [
    {
     "data": {
      "text/html": [
       "<table class=\"simpletable\">\n",
       "<caption>OLS Regression Results</caption>\n",
       "<tr>\n",
       "  <th>Dep. Variable:</th>            <td>Y</td>        <th>  R-squared:         </th> <td>   0.733</td>\n",
       "</tr>\n",
       "<tr>\n",
       "  <th>Model:</th>                   <td>OLS</td>       <th>  Adj. R-squared:    </th> <td>   0.663</td>\n",
       "</tr>\n",
       "<tr>\n",
       "  <th>Method:</th>             <td>Least Squares</td>  <th>  F-statistic:       </th> <td>   10.50</td>\n",
       "</tr>\n",
       "<tr>\n",
       "  <th>Date:</th>             <td>Mon, 07 Aug 2017</td> <th>  Prob (F-statistic):</th> <td>1.24e-05</td>\n",
       "</tr>\n",
       "<tr>\n",
       "  <th>Time:</th>                 <td>11:58:41</td>     <th>  Log-Likelihood:    </th> <td> -97.250</td>\n",
       "</tr>\n",
       "<tr>\n",
       "  <th>No. Observations:</th>      <td>    30</td>      <th>  AIC:               </th> <td>   208.5</td>\n",
       "</tr>\n",
       "<tr>\n",
       "  <th>Df Residuals:</th>          <td>    23</td>      <th>  BIC:               </th> <td>   218.3</td>\n",
       "</tr>\n",
       "<tr>\n",
       "  <th>Df Model:</th>              <td>     6</td>      <th>                     </th>     <td> </td>   \n",
       "</tr>\n",
       "<tr>\n",
       "  <th>Covariance Type:</th>      <td>nonrobust</td>    <th>                     </th>     <td> </td>   \n",
       "</tr>\n",
       "</table>\n",
       "<table class=\"simpletable\">\n",
       "<tr>\n",
       "      <td></td>         <th>coef</th>     <th>std err</th>      <th>t</th>      <th>P>|t|</th>  <th>[0.025</th>    <th>0.975]</th>  \n",
       "</tr>\n",
       "<tr>\n",
       "  <th>Intercept</th> <td>   10.7871</td> <td>   11.589</td> <td>    0.931</td> <td> 0.362</td> <td>  -13.187</td> <td>   34.761</td>\n",
       "</tr>\n",
       "<tr>\n",
       "  <th>X1</th>        <td>    0.6132</td> <td>    0.161</td> <td>    3.809</td> <td> 0.001</td> <td>    0.280</td> <td>    0.946</td>\n",
       "</tr>\n",
       "<tr>\n",
       "  <th>X2</th>        <td>   -0.0731</td> <td>    0.136</td> <td>   -0.538</td> <td> 0.596</td> <td>   -0.354</td> <td>    0.208</td>\n",
       "</tr>\n",
       "<tr>\n",
       "  <th>X3</th>        <td>    0.3203</td> <td>    0.169</td> <td>    1.901</td> <td> 0.070</td> <td>   -0.028</td> <td>    0.669</td>\n",
       "</tr>\n",
       "<tr>\n",
       "  <th>X4</th>        <td>    0.0817</td> <td>    0.221</td> <td>    0.369</td> <td> 0.715</td> <td>   -0.376</td> <td>    0.540</td>\n",
       "</tr>\n",
       "<tr>\n",
       "  <th>X5</th>        <td>    0.0384</td> <td>    0.147</td> <td>    0.261</td> <td> 0.796</td> <td>   -0.266</td> <td>    0.342</td>\n",
       "</tr>\n",
       "<tr>\n",
       "  <th>X6</th>        <td>   -0.2171</td> <td>    0.178</td> <td>   -1.218</td> <td> 0.236</td> <td>   -0.586</td> <td>    0.152</td>\n",
       "</tr>\n",
       "</table>\n",
       "<table class=\"simpletable\">\n",
       "<tr>\n",
       "  <th>Omnibus:</th>       <td> 2.386</td> <th>  Durbin-Watson:     </th> <td>   1.795</td>\n",
       "</tr>\n",
       "<tr>\n",
       "  <th>Prob(Omnibus):</th> <td> 0.303</td> <th>  Jarque-Bera (JB):  </th> <td>   1.255</td>\n",
       "</tr>\n",
       "<tr>\n",
       "  <th>Skew:</th>          <td>-0.081</td> <th>  Prob(JB):          </th> <td>   0.534</td>\n",
       "</tr>\n",
       "<tr>\n",
       "  <th>Kurtosis:</th>      <td> 2.011</td> <th>  Cond. No.          </th> <td>1.34e+03</td>\n",
       "</tr>\n",
       "</table>"
      ],
      "text/plain": [
       "<class 'statsmodels.iolib.summary.Summary'>\n",
       "\"\"\"\n",
       "                            OLS Regression Results                            \n",
       "==============================================================================\n",
       "Dep. Variable:                      Y   R-squared:                       0.733\n",
       "Model:                            OLS   Adj. R-squared:                  0.663\n",
       "Method:                 Least Squares   F-statistic:                     10.50\n",
       "Date:                Mon, 07 Aug 2017   Prob (F-statistic):           1.24e-05\n",
       "Time:                        11:58:41   Log-Likelihood:                -97.250\n",
       "No. Observations:                  30   AIC:                             208.5\n",
       "Df Residuals:                      23   BIC:                             218.3\n",
       "Df Model:                           6                                         \n",
       "Covariance Type:            nonrobust                                         \n",
       "==============================================================================\n",
       "                 coef    std err          t      P>|t|      [0.025      0.975]\n",
       "------------------------------------------------------------------------------\n",
       "Intercept     10.7871     11.589      0.931      0.362     -13.187      34.761\n",
       "X1             0.6132      0.161      3.809      0.001       0.280       0.946\n",
       "X2            -0.0731      0.136     -0.538      0.596      -0.354       0.208\n",
       "X3             0.3203      0.169      1.901      0.070      -0.028       0.669\n",
       "X4             0.0817      0.221      0.369      0.715      -0.376       0.540\n",
       "X5             0.0384      0.147      0.261      0.796      -0.266       0.342\n",
       "X6            -0.2171      0.178     -1.218      0.236      -0.586       0.152\n",
       "==============================================================================\n",
       "Omnibus:                        2.386   Durbin-Watson:                   1.795\n",
       "Prob(Omnibus):                  0.303   Jarque-Bera (JB):                1.255\n",
       "Skew:                          -0.081   Prob(JB):                        0.534\n",
       "Kurtosis:                       2.011   Cond. No.                     1.34e+03\n",
       "==============================================================================\n",
       "\n",
       "Warnings:\n",
       "[1] Standard Errors assume that the covariance matrix of the errors is correctly specified.\n",
       "[2] The condition number is large, 1.34e+03. This might indicate that there are\n",
       "strong multicollinearity or other numerical problems.\n",
       "\"\"\""
      ]
     },
     "execution_count": 5,
     "metadata": {},
     "output_type": "execute_result"
    }
   ],
   "source": [
    "#Hypothesis testing\n",
    "#1. All the regression coefficient with predictor variable are zero\n",
    "#H0: Reduced model is adeqaute, H1: Full model is adequate\n",
    "#RM: H0: Y = Beta0 (This also implies Beta1=Beta2=BetaP=0)\n",
    "#FM: H0: Y = Beta0 + Beta1*X(1) + ..... + BetaP*X(p)\n",
    "\n",
    "#FM\n",
    "lm1 = smf.ols(formula='Y~X1+X2+X3+X4+X5+X6', data=m1).fit()\n",
    "lm1.summary()"
   ]
  },
  {
   "cell_type": "code",
   "execution_count": 26,
   "metadata": {
    "collapsed": false,
    "deletable": true,
    "editable": true
   },
   "outputs": [
    {
     "name": "stdout",
     "output_type": "stream",
     "text": [
      "            df       sum_sq      mean_sq          F        PR(>F)\n",
      "X1         1.0  2927.584253  2927.584253  58.602627  9.055953e-08\n",
      "X2         1.0     7.518562     7.518562   0.150502  7.016233e-01\n",
      "X3         1.0   137.247472   137.247472   2.747338  1.109956e-01\n",
      "X4         1.0     0.942175     0.942175   0.018860  8.919640e-01\n",
      "X5         1.0     0.563837     0.563837   0.011287  9.163146e-01\n",
      "X6         1.0    74.110044    74.110044   1.483490  2.355770e-01\n",
      "Residual  23.0  1149.000325    49.956536        NaN           NaN\n"
     ]
    },
    {
     "name": "stderr",
     "output_type": "stream",
     "text": [
      "C:\\Users\\nisha\\AppData\\Local\\Enthought\\Canopy\\edm\\envs\\User\\lib\\site-packages\\scipy\\stats\\_distn_infrastructure.py:879: RuntimeWarning: invalid value encountered in greater\n",
      "  return (self.a < x) & (x < self.b)\n",
      "C:\\Users\\nisha\\AppData\\Local\\Enthought\\Canopy\\edm\\envs\\User\\lib\\site-packages\\scipy\\stats\\_distn_infrastructure.py:879: RuntimeWarning: invalid value encountered in less\n",
      "  return (self.a < x) & (x < self.b)\n",
      "C:\\Users\\nisha\\AppData\\Local\\Enthought\\Canopy\\edm\\envs\\User\\lib\\site-packages\\scipy\\stats\\_distn_infrastructure.py:1818: RuntimeWarning: invalid value encountered in less_equal\n",
      "  cond2 = cond0 & (x <= self.a)\n"
     ]
    }
   ],
   "source": [
    "#It should be noted that the constant in the above model is statistically not significant (p value 0.362).In any \n",
    "# regression model unless there is a strong theretical reason, a constant should always be included even if it is\n",
    "#statistically not significant\n",
    "#Corresponding p value (for CL =95%, alpha=0.05) indicates only variable X1 & X3 \n",
    "#anova for sum of sqaured error\n",
    "aov_table = anova_lm(lm1)\n",
    "print(aov_table)"
   ]
  },
  {
   "cell_type": "code",
   "execution_count": 49,
   "metadata": {
    "collapsed": false,
    "deletable": true,
    "editable": true
   },
   "outputs": [
    {
     "data": {
      "text/plain": [
       "10.523720349563044"
      ]
     },
     "execution_count": 49,
     "metadata": {},
     "output_type": "execute_result"
    }
   ],
   "source": [
    "j=pd.DataFrame(aov_table)\n",
    "SST=j.sum()\n",
    "SST\n",
    "#f = [(R^2(p)-R^2(q))/(p-q)]/[(1-R^2(p))/(n-p-1)]\n",
    "# for this model as apart from intercept all the variables are zero hence R^2 = 0 & q=0\n",
    "#Calculating f value from scratch\n",
    "F=((0.733)/6)/((1-0.733)/(30-6-1))\n",
    "F\n",
    "#F value is same as extracted from the lm1 summary"
   ]
  },
  {
   "cell_type": "code",
   "execution_count": 47,
   "metadata": {
    "collapsed": false,
    "deletable": true,
    "editable": true
   },
   "outputs": [
    {
     "data": {
      "text/plain": [
       "3.7102183612777657"
      ]
     },
     "execution_count": 47,
     "metadata": {},
     "output_type": "execute_result"
    }
   ],
   "source": [
    "#Finding F Value from table\n",
    "F_val=scipy.stats.f.ppf(q=1-0.01, dfn=6, dfd=23) # q is confidence level\n",
    "F_val"
   ]
  },
  {
   "cell_type": "markdown",
   "metadata": {
    "deletable": true,
    "editable": true
   },
   "source": [
    "#observed F value (10.5) is larger than F_val (3.71)from table hence null hypothesis is rejected "
   ]
  },
  {
   "cell_type": "markdown",
   "metadata": {
    "deletable": true,
    "editable": true
   },
   "source": [
    "A more puzzling case can, however, arise when none of the t-values for testing the regression coefficients are significant, but the F-test is significant. This implies that although none of the variables individually have significant explanotary power, the entire set of variables individually have significant explanotary power, the entire set of variables taken collectively explain a significant part of variation in the dependent variable. This situation when occurs, should be looked at very carefully, for it may indicate a problem with data analyzed, namely that some of the explanatory variables may be highly correlated, a situation commonly called as collinerity"
   ]
  },
  {
   "cell_type": "code",
   "execution_count": 50,
   "metadata": {
    "collapsed": false,
    "deletable": true,
    "editable": true
   },
   "outputs": [
    {
     "data": {
      "text/html": [
       "<table class=\"simpletable\">\n",
       "<caption>OLS Regression Results</caption>\n",
       "<tr>\n",
       "  <th>Dep. Variable:</th>            <td>Y</td>        <th>  R-squared:         </th> <td>   0.708</td>\n",
       "</tr>\n",
       "<tr>\n",
       "  <th>Model:</th>                   <td>OLS</td>       <th>  Adj. R-squared:    </th> <td>   0.686</td>\n",
       "</tr>\n",
       "<tr>\n",
       "  <th>Method:</th>             <td>Least Squares</td>  <th>  F-statistic:       </th> <td>   32.74</td>\n",
       "</tr>\n",
       "<tr>\n",
       "  <th>Date:</th>             <td>Mon, 07 Aug 2017</td> <th>  Prob (F-statistic):</th> <td>6.06e-08</td>\n",
       "</tr>\n",
       "<tr>\n",
       "  <th>Time:</th>                 <td>15:21:57</td>     <th>  Log-Likelihood:    </th> <td> -98.569</td>\n",
       "</tr>\n",
       "<tr>\n",
       "  <th>No. Observations:</th>      <td>    30</td>      <th>  AIC:               </th> <td>   203.1</td>\n",
       "</tr>\n",
       "<tr>\n",
       "  <th>Df Residuals:</th>          <td>    27</td>      <th>  BIC:               </th> <td>   207.3</td>\n",
       "</tr>\n",
       "<tr>\n",
       "  <th>Df Model:</th>              <td>     2</td>      <th>                     </th>     <td> </td>   \n",
       "</tr>\n",
       "<tr>\n",
       "  <th>Covariance Type:</th>      <td>nonrobust</td>    <th>                     </th>     <td> </td>   \n",
       "</tr>\n",
       "</table>\n",
       "<table class=\"simpletable\">\n",
       "<tr>\n",
       "      <td></td>         <th>coef</th>     <th>std err</th>      <th>t</th>      <th>P>|t|</th>  <th>[0.025</th>    <th>0.975]</th>  \n",
       "</tr>\n",
       "<tr>\n",
       "  <th>Intercept</th> <td>    9.8709</td> <td>    7.061</td> <td>    1.398</td> <td> 0.174</td> <td>   -4.618</td> <td>   24.359</td>\n",
       "</tr>\n",
       "<tr>\n",
       "  <th>X1</th>        <td>    0.6435</td> <td>    0.118</td> <td>    5.432</td> <td> 0.000</td> <td>    0.400</td> <td>    0.887</td>\n",
       "</tr>\n",
       "<tr>\n",
       "  <th>X3</th>        <td>    0.2112</td> <td>    0.134</td> <td>    1.571</td> <td> 0.128</td> <td>   -0.065</td> <td>    0.487</td>\n",
       "</tr>\n",
       "</table>\n",
       "<table class=\"simpletable\">\n",
       "<tr>\n",
       "  <th>Omnibus:</th>       <td> 6.448</td> <th>  Durbin-Watson:     </th> <td>   1.958</td>\n",
       "</tr>\n",
       "<tr>\n",
       "  <th>Prob(Omnibus):</th> <td> 0.040</td> <th>  Jarque-Bera (JB):  </th> <td>   1.959</td>\n",
       "</tr>\n",
       "<tr>\n",
       "  <th>Skew:</th>          <td>-0.041</td> <th>  Prob(JB):          </th> <td>   0.375</td>\n",
       "</tr>\n",
       "<tr>\n",
       "  <th>Kurtosis:</th>      <td> 1.751</td> <th>  Cond. No.          </th> <td>    503.</td>\n",
       "</tr>\n",
       "</table>"
      ],
      "text/plain": [
       "<class 'statsmodels.iolib.summary.Summary'>\n",
       "\"\"\"\n",
       "                            OLS Regression Results                            \n",
       "==============================================================================\n",
       "Dep. Variable:                      Y   R-squared:                       0.708\n",
       "Model:                            OLS   Adj. R-squared:                  0.686\n",
       "Method:                 Least Squares   F-statistic:                     32.74\n",
       "Date:                Mon, 07 Aug 2017   Prob (F-statistic):           6.06e-08\n",
       "Time:                        15:21:57   Log-Likelihood:                -98.569\n",
       "No. Observations:                  30   AIC:                             203.1\n",
       "Df Residuals:                      27   BIC:                             207.3\n",
       "Df Model:                           2                                         \n",
       "Covariance Type:            nonrobust                                         \n",
       "==============================================================================\n",
       "                 coef    std err          t      P>|t|      [0.025      0.975]\n",
       "------------------------------------------------------------------------------\n",
       "Intercept      9.8709      7.061      1.398      0.174      -4.618      24.359\n",
       "X1             0.6435      0.118      5.432      0.000       0.400       0.887\n",
       "X3             0.2112      0.134      1.571      0.128      -0.065       0.487\n",
       "==============================================================================\n",
       "Omnibus:                        6.448   Durbin-Watson:                   1.958\n",
       "Prob(Omnibus):                  0.040   Jarque-Bera (JB):                1.959\n",
       "Skew:                          -0.041   Prob(JB):                        0.375\n",
       "Kurtosis:                       1.751   Cond. No.                         503.\n",
       "==============================================================================\n",
       "\n",
       "Warnings:\n",
       "[1] Standard Errors assume that the covariance matrix of the errors is correctly specified.\n",
       "\"\"\""
      ]
     },
     "execution_count": 50,
     "metadata": {},
     "output_type": "execute_result"
    }
   ],
   "source": [
    "#Testing a subset of regression coefficient equal to zero\n",
    "# as from p value only x1 and x3 are significant\n",
    "#H0: beta2=beta4=beta5=beta6=0 (it implies that beta1 and beta3 are not zero)\n",
    "#H1: FM\n",
    "#RM: Y=beta0+beta1*X1+beta3*X3\n",
    "#Calculating RM\n",
    "lm2 = smf.ols(formula='Y~X1+X3', data=m1).fit()\n",
    "lm2.summary()"
   ]
  },
  {
   "cell_type": "code",
   "execution_count": 51,
   "metadata": {
    "collapsed": false,
    "deletable": true,
    "editable": true
   },
   "outputs": [
    {
     "name": "stdout",
     "output_type": "stream",
     "text": [
      "            df       sum_sq      mean_sq          F        PR(>F)\n",
      "X1         1.0  2927.584253  2927.584253  63.001506  1.564999e-08\n",
      "X3         1.0   114.733443   114.733443   2.469060  1.277539e-01\n",
      "Residual  27.0  1254.648971    46.468480        NaN           NaN\n"
     ]
    },
    {
     "name": "stderr",
     "output_type": "stream",
     "text": [
      "C:\\Users\\nisha\\AppData\\Local\\Enthought\\Canopy\\edm\\envs\\User\\lib\\site-packages\\scipy\\stats\\_distn_infrastructure.py:879: RuntimeWarning: invalid value encountered in greater\n",
      "  return (self.a < x) & (x < self.b)\n",
      "C:\\Users\\nisha\\AppData\\Local\\Enthought\\Canopy\\edm\\envs\\User\\lib\\site-packages\\scipy\\stats\\_distn_infrastructure.py:879: RuntimeWarning: invalid value encountered in less\n",
      "  return (self.a < x) & (x < self.b)\n",
      "C:\\Users\\nisha\\AppData\\Local\\Enthought\\Canopy\\edm\\envs\\User\\lib\\site-packages\\scipy\\stats\\_distn_infrastructure.py:1818: RuntimeWarning: invalid value encountered in less_equal\n",
      "  cond2 = cond0 & (x <= self.a)\n"
     ]
    }
   ],
   "source": [
    "aov_table1 = anova_lm(lm2)\n",
    "print(aov_table1)"
   ]
  },
  {
   "cell_type": "markdown",
   "metadata": {
    "deletable": true,
    "editable": true
   },
   "source": [
    "# Here SSE(RM)=1254.64\n",
    "# From lm1 summary SSE(FM)=1149\n",
    "# p = 6 (No of variable in FM) ; q = 2 (number of var in RM)\n",
    "f = [(R^2(p)-R^2(q))/(p-q)]/[(1-R^2(p))/(n-p-1)]"
   ]
  },
  {
   "cell_type": "code",
   "execution_count": 53,
   "metadata": {
    "collapsed": false,
    "deletable": true,
    "editable": true
   },
   "outputs": [
    {
     "data": {
      "text/plain": [
       "0.528659704090514"
      ]
     },
     "execution_count": 53,
     "metadata": {},
     "output_type": "execute_result"
    }
   ],
   "source": [
    "f = ((1254.64-1149)/(6-2))/(1149/(30-6-1))\n",
    "f"
   ]
  },
  {
   "cell_type": "code",
   "execution_count": 54,
   "metadata": {
    "collapsed": false,
    "deletable": true,
    "editable": true
   },
   "outputs": [
    {
     "data": {
      "text/plain": [
       "2.7955387373613871"
      ]
     },
     "execution_count": 54,
     "metadata": {},
     "output_type": "execute_result"
    }
   ],
   "source": [
    "F_val1=scipy.stats.f.ppf(q=1-0.05, dfn=4, dfd=23) # q is confidence level\n",
    "F_val1"
   ]
  },
  {
   "cell_type": "markdown",
   "metadata": {},
   "source": [
    "Since f < F_val1 this implies we fail to reject null hypothesis this implies variables X1 and X3 together explain the variation in Y as adequately as the full set of variable. We conclude that the deletion of X2,X4,X5,X6 does not adversely affect the explanotary power of model\n",
    "\n",
    "Similarly we can test for : \n",
    "a) testing the equality of regression coefficients Beta1=Beta3 \n",
    "H0: RM Y =Beta0+Beta1X1+Beta3X3 \n",
    "         =Beta0+Beta(dash)(X1+X3) \n",
    "H1: FM \n",
    "b) Estimating and testing of regression parameters under constraints Lets consider Beta1+Beta3=1 \n",
    "H0: RM Y = Beta0+Beta1X1+ Beta2X3 \n",
    "         = Beta0+Beta1X1+(1-Beta1)X3 {Using Beta3=1-Beta1} \n",
    "         = Beta0+Beta1(X1-X3)+epsilon \n",
    "H1: FM"
   ]
  },
  {
   "cell_type": "markdown",
   "metadata": {},
   "source": [
    "1)An outlier is a point that falls far from other data points. If the parameter estimates changes a great deal whn point is removed from calculation it is said to be influential i.e. if the removal of the point leads to drastic change in regression line then it is said to be influential. \n",
    "2)Points with extreme values of X are said to be high leverage (extreme values are drastically away from mean). High leverage point have greater ability to move the line. If these points fall outside teh overall pattern they can be influential\n",
    "a) If an x-value that seems to be outlier lies closer to mean of x, then it seems to has low leverage and some influence(as we are asuming that removal of this point does not drastically impact regression line)\n",
    "b)If an x-value that seems to be outlier lies far from mean of x (extreme value)and removal of this point leads to drastically impact regression line then this point is of high leverage and high influence\n",
    "\n",
    "In case of high influential point, check if observation is recorded correctly, if not check if conclusion change drastically on removal of point (if not then its okay), if yes then we can either keep both conclusions or keep only conclusion where an existing relationship holds\n",
    "\n",
    "(for multiple regression) Levarage: (1\\n) + {(x(i)-X_bar)^2/(Sigma(x(i)-X_bar)^2))}\n",
    "\n",
    "We can see that if value of x falls from from mean of x then that has high leverage\n",
    "\n",
    "For influence we can check cooks distance"
   ]
  },
  {
   "cell_type": "markdown",
   "metadata": {},
   "source": [
    "Residual plot\n",
    "----------------\n",
    "Error terms are :\n",
    "a) Normally distributed\n",
    "b) Homoscedastic (same variance at every X)\n",
    "c) Independent of each other\n",
    "\n",
    "-Plot Residual against predictors , it should be random\n",
    "-Variance of residual should not increase or decrease with values of X\n",
    "-There should be no curvature in residual plot\n",
    "-Quantile plot of residual should be as straight line\n"
   ]
  },
  {
   "cell_type": "code",
   "execution_count": 22,
   "metadata": {
    "collapsed": false
   },
   "outputs": [
    {
     "data": {
      "image/png": "[encoded data removed]",
      "text/plain": [
       "<matplotlib.figure.Figure at 0x1d95a9737f0>"
      ]
     },
     "metadata": {},
     "output_type": "display_data"
    }
   ],
   "source": [
    "#Plotting residual plot (for simple linear regression)\n",
    "plt.scatter(m1['X1'],lm1.resid)\n",
    "plt.xlabel(\"X1 - a predictor\")\n",
    "plt.ylabel(\"residual\")\n",
    "plt.show()"
   ]
  },
  {
   "cell_type": "markdown",
   "metadata": {},
   "source": [
    "Influence plots show the (externally) studentized residuals vs. the leverage of each observation as measured by the hat matrix.The influence of each point can be visualized by the criterion keyword argument. Options are Cook's distance and DFFITS, two measures of influence."
   ]
  },
  {
   "cell_type": "code",
   "execution_count": 28,
   "metadata": {
    "collapsed": false
   },
   "outputs": [
    {
     "data": {
      "image/png": "[encoded data removed]",
      "text/plain": [
       "<matplotlib.figure.Figure at 0x1d95984d0b8>"
      ]
     },
     "metadata": {},
     "output_type": "display_data"
    }
   ],
   "source": [
    "# leverage plot\n",
    "fig5=sm.graphics.influence_plot(lm1,size=15,criterion=\"cooks\")"
   ]
  },
  {
   "cell_type": "markdown",
   "metadata": {},
   "source": [
    "#Interpretation: (Source: http://data.library.virginia.edu/diagnostic-plots/)\n",
    "This plot helps us to find influential cases (i.e., subjects) if any. Not all outliers are influential in linear regression analysis (whatever outliers mean). Even though data have extreme values, they might not be influential to determine a regression line. That means, the results wouldn’t be much different if we either include or exclude them from analysis. They follow the trend in the majority of cases and they don’t really matter; they are not influential. On the other hand, some cases could be very influential even if they look to be within a reasonable range of the values. They could be extreme cases against a regression line and can alter the results if we exclude them from analysis. Another way to put it is that they don’t get along with the trend in the majority of the cases.\n",
    "Unlike the other plots, this time patterns are not relevant. \n",
    "\n",
    "We watch out for outlying values at the upper right corner or at the lower right corner. Those spots are the places where cases can be influential against a regression line. Look for cases outside of a dashed line, Cook’s distance. When cases are outside of the Cook’s distance (meaning they have high Cook’s distance scores), the cases are influential to the regression results. The regression results will be altered if we exclude those cases."
   ]
  },
  {
   "cell_type": "code",
   "execution_count": 21,
   "metadata": {
    "collapsed": false
   },
   "outputs": [
    {
     "name": "stdout",
     "output_type": "stream",
     "text": [
      "[<matplotlib.lines.Line2D object at 0x000001D95AA097B8>]\n"
     ]
    },
    {
     "data": {
      "image/png": "[encoded data removed]",
      "text/plain": [
       "<matplotlib.figure.Figure at 0x1d95a90def0>"
      ]
     },
     "metadata": {},
     "output_type": "display_data"
    }
   ],
   "source": [
    "# simple plot of residuals\n",
    "stdres=pd.DataFrame(lm1.resid_pearson)\n",
    "fig2 = plt.plot(stdres, 'o', ls='None')\n",
    "l = plt.axhline(y=0, color='r')\n",
    "plt.ylabel('Standardized Residual')\n",
    "plt.xlabel('Observation Number')\n",
    "print (fig2)\n",
    "\n",
    "#below graph shows residual are random"
   ]
  },
  {
   "cell_type": "markdown",
   "metadata": {},
   "source": [
    "Partial Regression Plots\n",
    "\n",
    "Since we are doing multivariate regressions, we cannot just look at individual bivariate plots to discern relationships.\n",
    "Instead, we want to look at the relationship of the dependent variable and independent variables conditional on the other\n",
    "independent variables. We can do this through using partial regression plots, otherwise known as added variable plots.\n",
    "\n",
    "In a partial regression plot, to discern the relationship between the response variable and the k\n",
    "-th variabe, we compute\n",
    "the residuals by regressing the response variable versus the independent variables excluding Xk. We can denote this by\n",
    "X∼k. We then compute the residuals by regressing Xk on X∼k\n",
    "\n",
    ". The partial regression plot is the plot\n",
    "of the former versus the latter residuals.\n",
    "\n",
    "The notable points of this plot are that the fitted line has slope βk\n",
    "and intercept zero. The residuals of this plot\n",
    "are the same as those of the least squares fit of the original model with full X. You can discern the effects of the\n",
    "individual data values on the estimation of a coefficient easily. If obs_labels is True, then these points are annotated\n",
    "with their observation label. You can also see the violation of underlying assumptions such as homooskedasticity and\n",
    "linearity."
   ]
  },
  {
   "cell_type": "markdown",
   "metadata": {},
   "source": [
    "fig, ax = plt.subplots(figsize=(12,8))\n",
    "fig = sm.graphics.plot_partregress(\"prestige\", \"income\", [\"income\", \"education\"], data=prestige, ax=ax)"
   ]
  },
  {
   "cell_type": "markdown",
   "metadata": {},
   "source": [
    "(Source: http://davegiles.blogspot.in/2015/02/three-different-types-of-regression.html)\n",
    "#Types of residuals\n",
    "a)Standardized Residuals: As you'll probably guess, \"Standardized Residuals\" are obtained by transforming each of the residuals as follows:\n",
    "\n",
    "                        zi = (ei - e*) / s.e.(ei)  ;   i = 1, 2, 3, ....., n  \n",
    "\n",
    "where s.e.(ei) is the standard error of ei; and e* is the arithmetic mean of the ei's. The latter will be zero if the model, (1) includes an intercept as a regressor.\n",
    "\n",
    "One drawback of the standardized residuals is that the numerator and denominator in the formula for zi are not independent. So, the zi's don't follow a Student-t distribution - which you may have thought they would. However, this issue can be dealt with by considering a slightly more subtle standardization of the ei's.\n",
    "\n",
    "b)  Studentized Residuals\n",
    "These residuals are obtained by going one step further than standardizing the ei's. We use a different variance estimator for each residual - one that is independent of (ei - e*).\n",
    "Specifically, model (1) is re-estimated, n times. Each time, we omit one of the observations in the sample for the y and X data. This will yield n different estimators of β, namely b(i); i = 1, 2, ...., n. (Let e(i) denote the residual vector for the ith such regression - that is, e(i) = y(i) - X(i)b(i), where y(i) and X(i) are the y vector with the ith element omitted, and the X matrix with the ith row omitted, respectively. Then, in each case, a separate estimator of σ2 is obtained by using\n",
    "\n",
    "                     s(i)2 = e(i)'e(i) / (n - k -1)    ;     i = 1, 2, ..., n.\n",
    "\n",
    "The \"Studentized Residuals\" are constructed as:\n",
    "\n",
    "                    ui = (ei - e*) / [s(i)(1 - hii)½]    ;     i  = 1, 2, 3, ....., n.\n",
    "\n",
    "Again, e* will be zero if the model includes an intercept.\n",
    "\n",
    "It's important to keep in mind that neither the standardized, nor the Studentized, residuals are  pair-wise independent.\n",
    "\n",
    "The \"regular\", standardized, and Studentized residuals are all used in various ways to assist in checking the specification of the associated regression model, and the robustness of the results.\n",
    "\n",
    "c)Partial Residuals:  \n",
    "Finally, there's a form of residuals that doesn't seem to get much attention in econometrics. Larsen and McCleary (1972) suggested that, in addition to using standardized or Studentized residuals for diagnostic checking, we might also consider what they termed \"partial residuals\".\n",
    "\n",
    "These residuals come into play when we have a multiple regression model. To construct them, we estimate the full regression model, (1), and get the OLS estimator, b, for the full coefficient vector. The pth element of the partial residual vector associated with the pth regressor is then defined as:\n",
    "\n",
    "              v(p)i = yi - Σ(bjXij)       ;  i = 1, 2,..., n   ;          (6)\n",
    "\n",
    "where bj is the jth element of b; Xij is the ith observation on the jth regressor; and the range of summation in (6) is for j = 1 to k, and j ≠ p. A different partial residuals series will be obtained for each regressor in the model.\n",
    "\n",
    "Larsen and McCleary argue that the partial residuals are useful in isolating the individual roles of the separate regressors when it comes to detecting the both the direction and extent of any non-linearities, etc. They can also be used as a useful supplement to the regular, standardized, or studentized residuals to check for possible forms of heteroskcedasticity in the model's errors.\n",
    "\n",
    "Keep in mind that many of the tests (e.g., White's test) that we use to check for homoskedasticity are \"non-constructive\". A rejection of the null hypothesis doesn't tell us anything about the possible form of heteroskedasticity. So, residuals plots can be very helpful guides, perhaps pointing us to potentially useful data transformations; or to the formulation of an appropriate error variance structure, and hence likelihood function."
   ]
  },
  {
   "cell_type": "code",
   "execution_count": 29,
   "metadata": {
    "collapsed": true
   },
   "outputs": [],
   "source": [
    "#Graph before fitting a model\n",
    "xls_file=pd.ExcelFile('D:/RegressionByExample/HamiltonData.xlsx')\n",
    "table=xls_file.parse('Sheet1')"
   ]
  },
  {
   "cell_type": "code",
   "execution_count": 30,
   "metadata": {
    "collapsed": true
   },
   "outputs": [],
   "source": [
    "m2=pd.DataFrame(table)"
   ]
  },
  {
   "cell_type": "code",
   "execution_count": 31,
   "metadata": {
    "collapsed": false
   },
   "outputs": [
    {
     "name": "stderr",
     "output_type": "stream",
     "text": [
      "C:\\Users\\nisha\\AppData\\Local\\Enthought\\Canopy\\edm\\envs\\User\\lib\\site-packages\\scipy\\stats\\stats.py:1334: UserWarning: kurtosistest only valid for n>=20 ... continuing anyway, n=15\n",
      "  \"anyway, n=%i\" % int(n))\n"
     ]
    },
    {
     "data": {
      "text/html": [
       "<table class=\"simpletable\">\n",
       "<caption>OLS Regression Results</caption>\n",
       "<tr>\n",
       "  <th>Dep. Variable:</th>            <td>Y</td>        <th>  R-squared:         </th> <td>   1.000</td> \n",
       "</tr>\n",
       "<tr>\n",
       "  <th>Model:</th>                   <td>OLS</td>       <th>  Adj. R-squared:    </th> <td>   1.000</td> \n",
       "</tr>\n",
       "<tr>\n",
       "  <th>Method:</th>             <td>Least Squares</td>  <th>  F-statistic:       </th> <td>3.922e+04</td>\n",
       "</tr>\n",
       "<tr>\n",
       "  <th>Date:</th>             <td>Wed, 09 Aug 2017</td> <th>  Prob (F-statistic):</th> <td>1.28e-23</td> \n",
       "</tr>\n",
       "<tr>\n",
       "  <th>Time:</th>                 <td>09:26:47</td>     <th>  Log-Likelihood:    </th> <td>  48.430</td> \n",
       "</tr>\n",
       "<tr>\n",
       "  <th>No. Observations:</th>      <td>    15</td>      <th>  AIC:               </th> <td>  -90.86</td> \n",
       "</tr>\n",
       "<tr>\n",
       "  <th>Df Residuals:</th>          <td>    12</td>      <th>  BIC:               </th> <td>  -88.74</td> \n",
       "</tr>\n",
       "<tr>\n",
       "  <th>Df Model:</th>              <td>     2</td>      <th>                     </th>     <td> </td>    \n",
       "</tr>\n",
       "<tr>\n",
       "  <th>Covariance Type:</th>      <td>nonrobust</td>    <th>                     </th>     <td> </td>    \n",
       "</tr>\n",
       "</table>\n",
       "<table class=\"simpletable\">\n",
       "<tr>\n",
       "      <td></td>         <th>coef</th>     <th>std err</th>      <th>t</th>      <th>P>|t|</th>  <th>[0.025</th>    <th>0.975]</th>  \n",
       "</tr>\n",
       "<tr>\n",
       "  <th>Intercept</th> <td>   -4.5154</td> <td>    0.061</td> <td>  -73.851</td> <td> 0.000</td> <td>   -4.649</td> <td>   -4.382</td>\n",
       "</tr>\n",
       "<tr>\n",
       "  <th>X1</th>        <td>    3.0970</td> <td>    0.012</td> <td>  252.314</td> <td> 0.000</td> <td>    3.070</td> <td>    3.124</td>\n",
       "</tr>\n",
       "<tr>\n",
       "  <th>X2</th>        <td>    1.0319</td> <td>    0.004</td> <td>  280.079</td> <td> 0.000</td> <td>    1.024</td> <td>    1.040</td>\n",
       "</tr>\n",
       "</table>\n",
       "<table class=\"simpletable\">\n",
       "<tr>\n",
       "  <th>Omnibus:</th>       <td> 4.611</td> <th>  Durbin-Watson:     </th> <td>   2.051</td>\n",
       "</tr>\n",
       "<tr>\n",
       "  <th>Prob(Omnibus):</th> <td> 0.100</td> <th>  Jarque-Bera (JB):  </th> <td>   1.383</td>\n",
       "</tr>\n",
       "<tr>\n",
       "  <th>Skew:</th>          <td> 0.140</td> <th>  Prob(JB):          </th> <td>   0.501</td>\n",
       "</tr>\n",
       "<tr>\n",
       "  <th>Kurtosis:</th>      <td> 1.539</td> <th>  Cond. No.          </th> <td>    176.</td>\n",
       "</tr>\n",
       "</table>"
      ],
      "text/plain": [
       "<class 'statsmodels.iolib.summary.Summary'>\n",
       "\"\"\"\n",
       "                            OLS Regression Results                            \n",
       "==============================================================================\n",
       "Dep. Variable:                      Y   R-squared:                       1.000\n",
       "Model:                            OLS   Adj. R-squared:                  1.000\n",
       "Method:                 Least Squares   F-statistic:                 3.922e+04\n",
       "Date:                Wed, 09 Aug 2017   Prob (F-statistic):           1.28e-23\n",
       "Time:                        09:26:47   Log-Likelihood:                 48.430\n",
       "No. Observations:                  15   AIC:                            -90.86\n",
       "Df Residuals:                      12   BIC:                            -88.74\n",
       "Df Model:                           2                                         \n",
       "Covariance Type:            nonrobust                                         \n",
       "==============================================================================\n",
       "                 coef    std err          t      P>|t|      [0.025      0.975]\n",
       "------------------------------------------------------------------------------\n",
       "Intercept     -4.5154      0.061    -73.851      0.000      -4.649      -4.382\n",
       "X1             3.0970      0.012    252.314      0.000       3.070       3.124\n",
       "X2             1.0319      0.004    280.079      0.000       1.024       1.040\n",
       "==============================================================================\n",
       "Omnibus:                        4.611   Durbin-Watson:                   2.051\n",
       "Prob(Omnibus):                  0.100   Jarque-Bera (JB):                1.383\n",
       "Skew:                           0.140   Prob(JB):                        0.501\n",
       "Kurtosis:                       1.539   Cond. No.                         176.\n",
       "==============================================================================\n",
       "\n",
       "Warnings:\n",
       "[1] Standard Errors assume that the covariance matrix of the errors is correctly specified.\n",
       "\"\"\""
      ]
     },
     "execution_count": 31,
     "metadata": {},
     "output_type": "execute_result"
    }
   ],
   "source": [
    "lm2 = smf.ols(formula='Y~X1+X2', data=m2).fit()\n",
    "lm2.summary()"
   ]
  },
  {
   "cell_type": "code",
   "execution_count": 32,
   "metadata": {
    "collapsed": false
   },
   "outputs": [
    {
     "name": "stderr",
     "output_type": "stream",
     "text": [
      "C:\\Users\\nisha\\AppData\\Local\\Enthought\\Canopy\\edm\\envs\\User\\lib\\site-packages\\scipy\\stats\\stats.py:1334: UserWarning: kurtosistest only valid for n>=20 ... continuing anyway, n=15\n",
      "  \"anyway, n=%i\" % int(n))\n"
     ]
    },
    {
     "data": {
      "text/html": [
       "<table class=\"simpletable\">\n",
       "<caption>OLS Regression Results</caption>\n",
       "<tr>\n",
       "  <th>Dep. Variable:</th>            <td>Y</td>        <th>  R-squared:         </th> <td>   0.000</td> \n",
       "</tr>\n",
       "<tr>\n",
       "  <th>Model:</th>                   <td>OLS</td>       <th>  Adj. R-squared:    </th> <td>  -0.077</td> \n",
       "</tr>\n",
       "<tr>\n",
       "  <th>Method:</th>             <td>Least Squares</td>  <th>  F-statistic:       </th> <td>8.112e-05</td>\n",
       "</tr>\n",
       "<tr>\n",
       "  <th>Date:</th>             <td>Wed, 09 Aug 2017</td> <th>  Prob (F-statistic):</th>  <td> 0.993</td>  \n",
       "</tr>\n",
       "<tr>\n",
       "  <th>Time:</th>                 <td>09:29:34</td>     <th>  Log-Likelihood:    </th> <td> -17.460</td> \n",
       "</tr>\n",
       "<tr>\n",
       "  <th>No. Observations:</th>      <td>    15</td>      <th>  AIC:               </th> <td>   38.92</td> \n",
       "</tr>\n",
       "<tr>\n",
       "  <th>Df Residuals:</th>          <td>    13</td>      <th>  BIC:               </th> <td>   40.34</td> \n",
       "</tr>\n",
       "<tr>\n",
       "  <th>Df Model:</th>              <td>     1</td>      <th>                     </th>     <td> </td>    \n",
       "</tr>\n",
       "<tr>\n",
       "  <th>Covariance Type:</th>      <td>nonrobust</td>    <th>                     </th>     <td> </td>    \n",
       "</tr>\n",
       "</table>\n",
       "<table class=\"simpletable\">\n",
       "<tr>\n",
       "      <td></td>         <th>coef</th>     <th>std err</th>      <th>t</th>      <th>P>|t|</th>  <th>[0.025</th>    <th>0.975]</th>  \n",
       "</tr>\n",
       "<tr>\n",
       "  <th>Intercept</th> <td>   11.9888</td> <td>    1.267</td> <td>    9.463</td> <td> 0.000</td> <td>    9.252</td> <td>   14.726</td>\n",
       "</tr>\n",
       "<tr>\n",
       "  <th>X1</th>        <td>    0.0037</td> <td>    0.416</td> <td>    0.009</td> <td> 0.993</td> <td>   -0.895</td> <td>    0.903</td>\n",
       "</tr>\n",
       "</table>\n",
       "<table class=\"simpletable\">\n",
       "<tr>\n",
       "  <th>Omnibus:</th>       <td> 3.596</td> <th>  Durbin-Watson:     </th> <td>   2.017</td>\n",
       "</tr>\n",
       "<tr>\n",
       "  <th>Prob(Omnibus):</th> <td> 0.166</td> <th>  Jarque-Bera (JB):  </th> <td>   1.244</td>\n",
       "</tr>\n",
       "<tr>\n",
       "  <th>Skew:</th>          <td>-0.131</td> <th>  Prob(JB):          </th> <td>   0.537</td>\n",
       "</tr>\n",
       "<tr>\n",
       "  <th>Kurtosis:</th>      <td> 1.614</td> <th>  Cond. No.          </th> <td>    19.8</td>\n",
       "</tr>\n",
       "</table>"
      ],
      "text/plain": [
       "<class 'statsmodels.iolib.summary.Summary'>\n",
       "\"\"\"\n",
       "                            OLS Regression Results                            \n",
       "==============================================================================\n",
       "Dep. Variable:                      Y   R-squared:                       0.000\n",
       "Model:                            OLS   Adj. R-squared:                 -0.077\n",
       "Method:                 Least Squares   F-statistic:                 8.112e-05\n",
       "Date:                Wed, 09 Aug 2017   Prob (F-statistic):              0.993\n",
       "Time:                        09:29:34   Log-Likelihood:                -17.460\n",
       "No. Observations:                  15   AIC:                             38.92\n",
       "Df Residuals:                      13   BIC:                             40.34\n",
       "Df Model:                           1                                         \n",
       "Covariance Type:            nonrobust                                         \n",
       "==============================================================================\n",
       "                 coef    std err          t      P>|t|      [0.025      0.975]\n",
       "------------------------------------------------------------------------------\n",
       "Intercept     11.9888      1.267      9.463      0.000       9.252      14.726\n",
       "X1             0.0037      0.416      0.009      0.993      -0.895       0.903\n",
       "==============================================================================\n",
       "Omnibus:                        3.596   Durbin-Watson:                   2.017\n",
       "Prob(Omnibus):                  0.166   Jarque-Bera (JB):                1.244\n",
       "Skew:                          -0.131   Prob(JB):                        0.537\n",
       "Kurtosis:                       1.614   Cond. No.                         19.8\n",
       "==============================================================================\n",
       "\n",
       "Warnings:\n",
       "[1] Standard Errors assume that the covariance matrix of the errors is correctly specified.\n",
       "\"\"\""
      ]
     },
     "execution_count": 32,
     "metadata": {},
     "output_type": "execute_result"
    }
   ],
   "source": [
    "lm2 = smf.ols(formula='Y~X1', data=m2).fit()\n",
    "lm2.summary()"
   ]
  },
  {
   "cell_type": "code",
   "execution_count": 33,
   "metadata": {
    "collapsed": false
   },
   "outputs": [
    {
     "name": "stderr",
     "output_type": "stream",
     "text": [
      "C:\\Users\\nisha\\AppData\\Local\\Enthought\\Canopy\\edm\\envs\\User\\lib\\site-packages\\scipy\\stats\\stats.py:1334: UserWarning: kurtosistest only valid for n>=20 ... continuing anyway, n=15\n",
      "  \"anyway, n=%i\" % int(n))\n"
     ]
    },
    {
     "data": {
      "text/html": [
       "<table class=\"simpletable\">\n",
       "<caption>OLS Regression Results</caption>\n",
       "<tr>\n",
       "  <th>Dep. Variable:</th>            <td>Y</td>        <th>  R-squared:         </th> <td>   0.188</td>\n",
       "</tr>\n",
       "<tr>\n",
       "  <th>Model:</th>                   <td>OLS</td>       <th>  Adj. R-squared:    </th> <td>   0.126</td>\n",
       "</tr>\n",
       "<tr>\n",
       "  <th>Method:</th>             <td>Least Squares</td>  <th>  F-statistic:       </th> <td>   3.018</td>\n",
       "</tr>\n",
       "<tr>\n",
       "  <th>Date:</th>             <td>Wed, 09 Aug 2017</td> <th>  Prob (F-statistic):</th>  <td> 0.106</td> \n",
       "</tr>\n",
       "<tr>\n",
       "  <th>Time:</th>                 <td>09:29:40</td>     <th>  Log-Likelihood:    </th> <td> -15.894</td>\n",
       "</tr>\n",
       "<tr>\n",
       "  <th>No. Observations:</th>      <td>    15</td>      <th>  AIC:               </th> <td>   35.79</td>\n",
       "</tr>\n",
       "<tr>\n",
       "  <th>Df Residuals:</th>          <td>    13</td>      <th>  BIC:               </th> <td>   37.20</td>\n",
       "</tr>\n",
       "<tr>\n",
       "  <th>Df Model:</th>              <td>     1</td>      <th>                     </th>     <td> </td>   \n",
       "</tr>\n",
       "<tr>\n",
       "  <th>Covariance Type:</th>      <td>nonrobust</td>    <th>                     </th>     <td> </td>   \n",
       "</tr>\n",
       "</table>\n",
       "<table class=\"simpletable\">\n",
       "<tr>\n",
       "      <td></td>         <th>coef</th>     <th>std err</th>      <th>t</th>      <th>P>|t|</th>  <th>[0.025</th>    <th>0.975]</th>  \n",
       "</tr>\n",
       "<tr>\n",
       "  <th>Intercept</th> <td>   10.6319</td> <td>    0.811</td> <td>   13.111</td> <td> 0.000</td> <td>    8.880</td> <td>   12.384</td>\n",
       "</tr>\n",
       "<tr>\n",
       "  <th>X2</th>        <td>    0.1955</td> <td>    0.113</td> <td>    1.737</td> <td> 0.106</td> <td>   -0.048</td> <td>    0.439</td>\n",
       "</tr>\n",
       "</table>\n",
       "<table class=\"simpletable\">\n",
       "<tr>\n",
       "  <th>Omnibus:</th>       <td> 3.915</td> <th>  Durbin-Watson:     </th> <td>   2.232</td>\n",
       "</tr>\n",
       "<tr>\n",
       "  <th>Prob(Omnibus):</th> <td> 0.141</td> <th>  Jarque-Bera (JB):  </th> <td>   1.265</td>\n",
       "</tr>\n",
       "<tr>\n",
       "  <th>Skew:</th>          <td>-0.070</td> <th>  Prob(JB):          </th> <td>   0.531</td>\n",
       "</tr>\n",
       "<tr>\n",
       "  <th>Kurtosis:</th>      <td> 1.584</td> <th>  Cond. No.          </th> <td>    30.7</td>\n",
       "</tr>\n",
       "</table>"
      ],
      "text/plain": [
       "<class 'statsmodels.iolib.summary.Summary'>\n",
       "\"\"\"\n",
       "                            OLS Regression Results                            \n",
       "==============================================================================\n",
       "Dep. Variable:                      Y   R-squared:                       0.188\n",
       "Model:                            OLS   Adj. R-squared:                  0.126\n",
       "Method:                 Least Squares   F-statistic:                     3.018\n",
       "Date:                Wed, 09 Aug 2017   Prob (F-statistic):              0.106\n",
       "Time:                        09:29:40   Log-Likelihood:                -15.894\n",
       "No. Observations:                  15   AIC:                             35.79\n",
       "Df Residuals:                      13   BIC:                             37.20\n",
       "Df Model:                           1                                         \n",
       "Covariance Type:            nonrobust                                         \n",
       "==============================================================================\n",
       "                 coef    std err          t      P>|t|      [0.025      0.975]\n",
       "------------------------------------------------------------------------------\n",
       "Intercept     10.6319      0.811     13.111      0.000       8.880      12.384\n",
       "X2             0.1955      0.113      1.737      0.106      -0.048       0.439\n",
       "==============================================================================\n",
       "Omnibus:                        3.915   Durbin-Watson:                   2.232\n",
       "Prob(Omnibus):                  0.141   Jarque-Bera (JB):                1.265\n",
       "Skew:                          -0.070   Prob(JB):                        0.531\n",
       "Kurtosis:                       1.584   Cond. No.                         30.7\n",
       "==============================================================================\n",
       "\n",
       "Warnings:\n",
       "[1] Standard Errors assume that the covariance matrix of the errors is correctly specified.\n",
       "\"\"\""
      ]
     },
     "execution_count": 33,
     "metadata": {},
     "output_type": "execute_result"
    }
   ],
   "source": [
    "lm2 = smf.ols(formula='Y~X2', data=m2).fit()\n",
    "lm2.summary()"
   ]
  },
  {
   "cell_type": "code",
   "execution_count": 36,
   "metadata": {
    "collapsed": false
   },
   "outputs": [
    {
     "name": "stdout",
     "output_type": "stream",
     "text": [
      "           Y        X1        X2\n",
      "Y   1.000000  0.002498  0.434069\n",
      "X1  0.002498  1.000000 -0.899776\n",
      "X2  0.434069 -0.899776  1.000000\n"
     ]
    }
   ],
   "source": [
    "#The above output shows that Y is related to neither X1 nor X2 but together they predict Y almost perfectly\n",
    "#Scatter plot matrix, predictor should be linearly independent of each other\n",
    "print(m2.corr())\n",
    "#This shows that the correlation coeffcient between X1 and X2 ~ 0.9 which is very high and as predictors should not be linearly \n",
    "#dependent, this raises a question mark. \n",
    "#Please note the pairwise scatter plot will fail to detect such multivariate relationship"
   ]
  },
  {
   "cell_type": "code",
   "execution_count": null,
   "metadata": {
    "collapsed": true
   },
   "outputs": [],
   "source": [
    "#Graph after fitting a model\n",
    "#a) # simple plot of residuals given above (index plot): under the assumption of independent error the point should \n",
    "#be scattered randomly within horizontal band around zero. It is not necessary if the order in which the observation is\n",
    "# taken is immaterial\n",
    "#b)QQPlot should be linear\n"
   ]
  },
  {
   "cell_type": "code",
   "execution_count": null,
   "metadata": {
    "collapsed": true
   },
   "outputs": [],
   "source": []
  },
  {
   "cell_type": "code",
   "execution_count": null,
   "metadata": {
    "collapsed": true
   },
   "outputs": [],
   "source": [
    "SAME AS ABOVE, NOT DELETED ON PURPOSE"
   ]
  },
  {
   "cell_type": "markdown",
   "metadata": {
    "deletable": true,
    "editable": true
   },
   "source": [
    "Since f < F_val1 this implies we fail to reject null hypothesis this implies variables X1 and X3 together explain the variation in Y as adequately as the full set of variable. We conclude that the deletion of X2,X4,X5,X6 does not adversely affect the explanotary power of model"
   ]
  },
  {
   "cell_type": "markdown",
   "metadata": {
    "deletable": true,
    "editable": true
   },
   "source": [
    "Similarly we can test for :\n",
    "a) testing the equality of regression coefficients\n",
    "Beta1=Beta3\n",
    "H0: RM Y =Beta0+Beta1*X1+Beta3*X3\n",
    "         =Beta0+Beta(dash)(X1+X3)\n",
    "H1: FM\n",
    "b) Estimating and testing of regression parameters under constraints\n",
    "Lets consider Beta1+Beta3=1\n",
    "H0: RM Y = Beta0+Beta1*X1+ Beta2*X3\n",
    "         = Beta0+Beta1*X1+(1-Beta1)*X3  {Using Beta3=1-Beta1}\n",
    "         = Beta0+Beta1(X1-X3)+epsilon\n",
    "H1: FM"
   ]
  },
  {
   "cell_type": "code",
   "execution_count": 23,
   "metadata": {
    "collapsed": false,
    "deletable": true,
    "editable": true
   },
   "outputs": [
    {
     "data": {
      "image/png": "[encoded data removed]",
      "text/plain": [
       "<matplotlib.figure.Figure at 0x1c8fce9e908>"
      ]
     },
     "metadata": {},
     "output_type": "display_data"
    }
   ],
   "source": [
    "#for QQ PLot\n",
    "res = lm1.resid \n",
    "fig = sm.qqplot(res, line='s')\n",
    "plt.show() "
   ]
  },
  {
   "cell_type": "code",
   "execution_count": 48,
   "metadata": {
    "collapsed": false,
    "deletable": true,
    "editable": true
   },
   "outputs": [
    {
     "ename": "TypeError",
     "evalue": "residplot() got multiple values for argument 'data'",
     "output_type": "error",
     "traceback": [
      "\u001b[1;31m---------------------------------------------------------------------------\u001b[0m",
      "\u001b[1;31mTypeError\u001b[0m                                 Traceback (most recent call last)",
      "\u001b[1;32m<ipython-input-48-3b298d6b4235>\u001b[0m in \u001b[0;36m<module>\u001b[1;34m()\u001b[0m\n\u001b[1;32m----> 1\u001b[1;33m \u001b[0mseaborn\u001b[0m\u001b[1;33m.\u001b[0m\u001b[0mresidplot\u001b[0m\u001b[1;33m(\u001b[0m\u001b[0mm2\u001b[0m\u001b[1;33m[\u001b[0m\u001b[1;34m'X1'\u001b[0m\u001b[1;33m]\u001b[0m\u001b[1;33m,\u001b[0m\u001b[0mm2\u001b[0m\u001b[1;33m[\u001b[0m\u001b[1;34m'X2'\u001b[0m\u001b[1;33m]\u001b[0m\u001b[1;33m,\u001b[0m \u001b[0mm2\u001b[0m\u001b[1;33m[\u001b[0m\u001b[1;34m'Y'\u001b[0m\u001b[1;33m]\u001b[0m\u001b[1;33m,\u001b[0m \u001b[0mdata\u001b[0m\u001b[1;33m=\u001b[0m\u001b[0mm2\u001b[0m\u001b[1;33m,\u001b[0m \u001b[0mlowess\u001b[0m\u001b[1;33m=\u001b[0m\u001b[1;32mFalse\u001b[0m\u001b[1;33m,\u001b[0m \u001b[0mx_partial\u001b[0m\u001b[1;33m=\u001b[0m\u001b[1;32mNone\u001b[0m\u001b[1;33m,\u001b[0m \u001b[0my_partial\u001b[0m\u001b[1;33m=\u001b[0m\u001b[1;32mNone\u001b[0m\u001b[1;33m,\u001b[0m \u001b[0morder\u001b[0m\u001b[1;33m=\u001b[0m\u001b[1;36m1\u001b[0m\u001b[1;33m,\u001b[0m \u001b[0mrobust\u001b[0m\u001b[1;33m=\u001b[0m\u001b[1;32mFalse\u001b[0m\u001b[1;33m,\u001b[0m \u001b[0mdropna\u001b[0m\u001b[1;33m=\u001b[0m\u001b[1;32mTrue\u001b[0m\u001b[1;33m,\u001b[0m \u001b[0mlabel\u001b[0m\u001b[1;33m=\u001b[0m\u001b[1;32mNone\u001b[0m\u001b[1;33m,\u001b[0m \u001b[0mcolor\u001b[0m\u001b[1;33m=\u001b[0m\u001b[1;32mNone\u001b[0m\u001b[1;33m,\u001b[0m \u001b[0mscatter_kws\u001b[0m\u001b[1;33m=\u001b[0m\u001b[1;32mNone\u001b[0m\u001b[1;33m,\u001b[0m \u001b[0mline_kws\u001b[0m\u001b[1;33m=\u001b[0m\u001b[1;32mNone\u001b[0m\u001b[1;33m,\u001b[0m \u001b[0max\u001b[0m\u001b[1;33m=\u001b[0m\u001b[1;32mNone\u001b[0m\u001b[1;33m)\u001b[0m\u001b[1;33m\u001b[0m\u001b[0m\n\u001b[0m",
      "\u001b[1;31mTypeError\u001b[0m: residplot() got multiple values for argument 'data'"
     ]
    }
   ],
   "source": [
    "seaborn.residplot(m2['X1'],m2['X2'], m2['Y'], data=m2, lowess=False, x_partial=None, y_partial=None, order=1, robust=False, dropna=True, label=None, color=None, scatter_kws=None, line_kws=None, ax=None)"
   ]
  },
  {
   "cell_type": "code",
   "execution_count": 49,
   "metadata": {
    "collapsed": true,
    "deletable": true,
    "editable": true
   },
   "outputs": [],
   "source": [
    "#Qualitative variables as predictors\n",
    "#in salary survey data, X is experience in years, E is education (1 for HS, 2 for BS, 3 for advance degree) and Management M)\n",
    "#Lets create indicator varible for E , it wll be E1 =1 implies HS if not E1=0 ,  E2 =1 implies BS if not E2=0, E1=E2=0 implies advanced degree\n",
    "#The category that is not represented by an indicator variable is referred to as base category or control group and regression coefficient\n",
    "#...of indicator variables are interpreted relative to control group. \n",
    "#Similarly there is only one indicator variable required to distinguish two management category\n",
    "xls_file=pd.ExcelFile('D:/RegressionByExample/SalarySurveyData.xlsx')\n",
    "table=xls_file.parse('Sheet1')\n",
    "m3=pd.DataFrame(table)"
   ]
  },
  {
   "cell_type": "code",
   "execution_count": 101,
   "metadata": {
    "collapsed": false
   },
   "outputs": [],
   "source": [
    "#Creating indicator variable\n",
    "df_n = pd.get_dummies(m3['E'],prefix='E')"
   ]
  },
  {
   "cell_type": "code",
   "execution_count": 102,
   "metadata": {
    "collapsed": false
   },
   "outputs": [],
   "source": [
    "#Drop unnecessary E_3\n",
    "dm=df_n.drop('E_3',axis=1)"
   ]
  },
  {
   "cell_type": "code",
   "execution_count": 107,
   "metadata": {
    "collapsed": false
   },
   "outputs": [],
   "source": [
    "#Joining it with original dataframe\n",
    "df_dummy=m3.join(dm)"
   ]
  },
  {
   "cell_type": "code",
   "execution_count": 115,
   "metadata": {
    "collapsed": false
   },
   "outputs": [],
   "source": [
    "#creating indicator variable for male\n",
    "d_M=pd.get_dummies(m3['M'],prefix='M')\n",
    "dm=d_M.drop('M_0',axis=1)"
   ]
  },
  {
   "cell_type": "code",
   "execution_count": 121,
   "metadata": {
    "collapsed": false
   },
   "outputs": [],
   "source": [
    "df_dummy1=df_dummy.join(dm)\n",
    "k_1=df_dummy1.drop('Dict',axis=1)\n",
    "k_2=k_1.drop('m',axis=1)"
   ]
  },
  {
   "cell_type": "code",
   "execution_count": 122,
   "metadata": {
    "collapsed": false,
    "deletable": true,
    "editable": true
   },
   "outputs": [
    {
     "data": {
      "text/html": [
       "<table class=\"simpletable\">\n",
       "<caption>OLS Regression Results</caption>\n",
       "<tr>\n",
       "  <th>Dep. Variable:</th>            <td>S</td>        <th>  R-squared:         </th> <td>   0.957</td>\n",
       "</tr>\n",
       "<tr>\n",
       "  <th>Model:</th>                   <td>OLS</td>       <th>  Adj. R-squared:    </th> <td>   0.953</td>\n",
       "</tr>\n",
       "<tr>\n",
       "  <th>Method:</th>             <td>Least Squares</td>  <th>  F-statistic:       </th> <td>   226.8</td>\n",
       "</tr>\n",
       "<tr>\n",
       "  <th>Date:</th>             <td>Wed, 09 Aug 2017</td> <th>  Prob (F-statistic):</th> <td>2.23e-27</td>\n",
       "</tr>\n",
       "<tr>\n",
       "  <th>Time:</th>                 <td>13:12:38</td>     <th>  Log-Likelihood:    </th> <td> -381.63</td>\n",
       "</tr>\n",
       "<tr>\n",
       "  <th>No. Observations:</th>      <td>    46</td>      <th>  AIC:               </th> <td>   773.3</td>\n",
       "</tr>\n",
       "<tr>\n",
       "  <th>Df Residuals:</th>          <td>    41</td>      <th>  BIC:               </th> <td>   782.4</td>\n",
       "</tr>\n",
       "<tr>\n",
       "  <th>Df Model:</th>              <td>     4</td>      <th>                     </th>     <td> </td>   \n",
       "</tr>\n",
       "<tr>\n",
       "  <th>Covariance Type:</th>      <td>nonrobust</td>    <th>                     </th>     <td> </td>   \n",
       "</tr>\n",
       "</table>\n",
       "<table class=\"simpletable\">\n",
       "<tr>\n",
       "      <td></td>         <th>coef</th>     <th>std err</th>      <th>t</th>      <th>P>|t|</th>  <th>[0.025</th>    <th>0.975]</th>  \n",
       "</tr>\n",
       "<tr>\n",
       "  <th>Intercept</th> <td> 1.103e+04</td> <td>  383.217</td> <td>   28.787</td> <td> 0.000</td> <td> 1.03e+04</td> <td> 1.18e+04</td>\n",
       "</tr>\n",
       "<tr>\n",
       "  <th>X</th>         <td>  546.1840</td> <td>   30.519</td> <td>   17.896</td> <td> 0.000</td> <td>  484.549</td> <td>  607.819</td>\n",
       "</tr>\n",
       "<tr>\n",
       "  <th>E_1</th>       <td>-2996.2103</td> <td>  411.753</td> <td>   -7.277</td> <td> 0.000</td> <td>-3827.762</td> <td>-2164.659</td>\n",
       "</tr>\n",
       "<tr>\n",
       "  <th>E_2</th>       <td>  147.8249</td> <td>  387.659</td> <td>    0.381</td> <td> 0.705</td> <td> -635.069</td> <td>  930.719</td>\n",
       "</tr>\n",
       "<tr>\n",
       "  <th>M_1</th>       <td> 6883.5310</td> <td>  313.919</td> <td>   21.928</td> <td> 0.000</td> <td> 6249.559</td> <td> 7517.503</td>\n",
       "</tr>\n",
       "</table>\n",
       "<table class=\"simpletable\">\n",
       "<tr>\n",
       "  <th>Omnibus:</th>       <td> 2.293</td> <th>  Durbin-Watson:     </th> <td>   2.237</td>\n",
       "</tr>\n",
       "<tr>\n",
       "  <th>Prob(Omnibus):</th> <td> 0.318</td> <th>  Jarque-Bera (JB):  </th> <td>   1.362</td>\n",
       "</tr>\n",
       "<tr>\n",
       "  <th>Skew:</th>          <td>-0.077</td> <th>  Prob(JB):          </th> <td>   0.506</td>\n",
       "</tr>\n",
       "<tr>\n",
       "  <th>Kurtosis:</th>      <td> 2.171</td> <th>  Cond. No.          </th> <td>    35.4</td>\n",
       "</tr>\n",
       "</table>"
      ],
      "text/plain": [
       "<class 'statsmodels.iolib.summary.Summary'>\n",
       "\"\"\"\n",
       "                            OLS Regression Results                            \n",
       "==============================================================================\n",
       "Dep. Variable:                      S   R-squared:                       0.957\n",
       "Model:                            OLS   Adj. R-squared:                  0.953\n",
       "Method:                 Least Squares   F-statistic:                     226.8\n",
       "Date:                Wed, 09 Aug 2017   Prob (F-statistic):           2.23e-27\n",
       "Time:                        13:12:38   Log-Likelihood:                -381.63\n",
       "No. Observations:                  46   AIC:                             773.3\n",
       "Df Residuals:                      41   BIC:                             782.4\n",
       "Df Model:                           4                                         \n",
       "Covariance Type:            nonrobust                                         \n",
       "==============================================================================\n",
       "                 coef    std err          t      P>|t|      [0.025      0.975]\n",
       "------------------------------------------------------------------------------\n",
       "Intercept   1.103e+04    383.217     28.787      0.000    1.03e+04    1.18e+04\n",
       "X            546.1840     30.519     17.896      0.000     484.549     607.819\n",
       "E_1        -2996.2103    411.753     -7.277      0.000   -3827.762   -2164.659\n",
       "E_2          147.8249    387.659      0.381      0.705    -635.069     930.719\n",
       "M_1         6883.5310    313.919     21.928      0.000    6249.559    7517.503\n",
       "==============================================================================\n",
       "Omnibus:                        2.293   Durbin-Watson:                   2.237\n",
       "Prob(Omnibus):                  0.318   Jarque-Bera (JB):                1.362\n",
       "Skew:                          -0.077   Prob(JB):                        0.506\n",
       "Kurtosis:                       2.171   Cond. No.                         35.4\n",
       "==============================================================================\n",
       "\n",
       "Warnings:\n",
       "[1] Standard Errors assume that the covariance matrix of the errors is correctly specified.\n",
       "\"\"\""
      ]
     },
     "execution_count": 122,
     "metadata": {},
     "output_type": "execute_result"
    }
   ],
   "source": [
    "lm3 = smf.ols(formula='S~X+E_1+E_2+M_1', data=k_2).fit()\n",
    "lm3.summary()"
   ]
  },
  {
   "cell_type": "code",
   "execution_count": 126,
   "metadata": {
    "collapsed": false,
    "deletable": true,
    "editable": true
   },
   "outputs": [
    {
     "data": {
      "image/png": "[encoded data removed]",
      "text/plain": [
       "<matplotlib.figure.Figure at 0x1d95b423940>"
      ]
     },
     "metadata": {},
     "output_type": "display_data"
    }
   ],
   "source": [
    "#Let plot residual plot vs X (Experience)\n",
    "plt.scatter(m3['X'],lm3.resid)\n",
    "plt.xlabel(\"X\")\n",
    "plt.ylabel(\"residual\")\n",
    "plt.show()"
   ]
  },
  {
   "cell_type": "raw",
   "metadata": {
    "collapsed": true,
    "deletable": true,
    "editable": true
   },
   "source": [
    "## Residual Vs X plot suggests there may be three or more specific levels of residuals.Possibly the indicator variable that have been defined are not adequate for explaining the effect of education and management status.Actually each residual is identified with one of the six education management combination (page 132, table 5.2). We can see this by plotting residual against a new categorical variable that has distinct values for each of the combination as given in the table. This graph is given on page 133 (fig 5.2). It can be seem from the graph that residual cluster by size according to their education management category , within each of the group the residuals are either totally positive or totally negative. This shows that the combination of education and management have not been satisfactorilly treated.\n",
    "\n",
    "The graph strongly suggest that the effects of education and management status on salary determination is not additive.The non additive effects of these variables can be evaluated by adding an additional variables that are used to measure multiplication or interraction effects.\n",
    "\n",
    "Interraction variables are defined as product of the existing indicator variable (E_1.M_1) and (E_2.M_1)"
   ]
  },
  {
   "cell_type": "code",
   "execution_count": 139,
   "metadata": {
    "collapsed": false
   },
   "outputs": [],
   "source": [
    "k_2['E_1M_1']=k_2['E_1']*k_2['M_1']\n",
    "k_2['E_2M_1']=k_2['E_2']*k_2['M_1']"
   ]
  },
  {
   "cell_type": "code",
   "execution_count": 142,
   "metadata": {
    "collapsed": false
   },
   "outputs": [],
   "source": [
    "k_3=k_2.drop('E_1.M_1',axis=1)\n",
    "k_4=k_3.drop('E_2.M_1',axis=1)"
   ]
  },
  {
   "cell_type": "code",
   "execution_count": 143,
   "metadata": {
    "collapsed": false
   },
   "outputs": [
    {
     "data": {
      "text/html": [
       "<table class=\"simpletable\">\n",
       "<caption>OLS Regression Results</caption>\n",
       "<tr>\n",
       "  <th>Dep. Variable:</th>            <td>S</td>        <th>  R-squared:         </th> <td>   0.999</td>\n",
       "</tr>\n",
       "<tr>\n",
       "  <th>Model:</th>                   <td>OLS</td>       <th>  Adj. R-squared:    </th> <td>   0.999</td>\n",
       "</tr>\n",
       "<tr>\n",
       "  <th>Method:</th>             <td>Least Squares</td>  <th>  F-statistic:       </th> <td>   5517.</td>\n",
       "</tr>\n",
       "<tr>\n",
       "  <th>Date:</th>             <td>Wed, 09 Aug 2017</td> <th>  Prob (F-statistic):</th> <td>1.67e-55</td>\n",
       "</tr>\n",
       "<tr>\n",
       "  <th>Time:</th>                 <td>14:45:34</td>     <th>  Log-Likelihood:    </th> <td> -298.74</td>\n",
       "</tr>\n",
       "<tr>\n",
       "  <th>No. Observations:</th>      <td>    46</td>      <th>  AIC:               </th> <td>   611.5</td>\n",
       "</tr>\n",
       "<tr>\n",
       "  <th>Df Residuals:</th>          <td>    39</td>      <th>  BIC:               </th> <td>   624.3</td>\n",
       "</tr>\n",
       "<tr>\n",
       "  <th>Df Model:</th>              <td>     6</td>      <th>                     </th>     <td> </td>   \n",
       "</tr>\n",
       "<tr>\n",
       "  <th>Covariance Type:</th>      <td>nonrobust</td>    <th>                     </th>     <td> </td>   \n",
       "</tr>\n",
       "</table>\n",
       "<table class=\"simpletable\">\n",
       "<tr>\n",
       "      <td></td>         <th>coef</th>     <th>std err</th>      <th>t</th>      <th>P>|t|</th>  <th>[0.025</th>    <th>0.975]</th>  \n",
       "</tr>\n",
       "<tr>\n",
       "  <th>Intercept</th> <td>  1.12e+04</td> <td>   79.065</td> <td>  141.698</td> <td> 0.000</td> <td>  1.1e+04</td> <td> 1.14e+04</td>\n",
       "</tr>\n",
       "<tr>\n",
       "  <th>X</th>         <td>  496.9870</td> <td>    5.566</td> <td>   89.283</td> <td> 0.000</td> <td>  485.728</td> <td>  508.246</td>\n",
       "</tr>\n",
       "<tr>\n",
       "  <th>E_1</th>       <td>-1730.7483</td> <td>  105.334</td> <td>  -16.431</td> <td> 0.000</td> <td>-1943.806</td> <td>-1517.690</td>\n",
       "</tr>\n",
       "<tr>\n",
       "  <th>E_2</th>       <td> -349.0777</td> <td>   97.568</td> <td>   -3.578</td> <td> 0.001</td> <td> -546.427</td> <td> -151.728</td>\n",
       "</tr>\n",
       "<tr>\n",
       "  <th>M_1</th>       <td> 7047.4120</td> <td>  102.589</td> <td>   68.695</td> <td> 0.000</td> <td> 6839.906</td> <td> 7254.918</td>\n",
       "</tr>\n",
       "<tr>\n",
       "  <th>E_1M_1</th>    <td>-3066.0351</td> <td>  149.330</td> <td>  -20.532</td> <td> 0.000</td> <td>-3368.084</td> <td>-2763.986</td>\n",
       "</tr>\n",
       "<tr>\n",
       "  <th>E_2M_1</th>    <td> 1836.4879</td> <td>  131.167</td> <td>   14.001</td> <td> 0.000</td> <td> 1571.177</td> <td> 2101.799</td>\n",
       "</tr>\n",
       "</table>\n",
       "<table class=\"simpletable\">\n",
       "<tr>\n",
       "  <th>Omnibus:</th>       <td>74.761</td> <th>  Durbin-Watson:     </th> <td>   2.244</td> \n",
       "</tr>\n",
       "<tr>\n",
       "  <th>Prob(Omnibus):</th> <td> 0.000</td> <th>  Jarque-Bera (JB):  </th> <td>1037.873</td> \n",
       "</tr>\n",
       "<tr>\n",
       "  <th>Skew:</th>          <td>-4.103</td> <th>  Prob(JB):          </th> <td>4.25e-226</td>\n",
       "</tr>\n",
       "<tr>\n",
       "  <th>Kurtosis:</th>      <td>24.776</td> <th>  Cond. No.          </th> <td>    83.4</td> \n",
       "</tr>\n",
       "</table>"
      ],
      "text/plain": [
       "<class 'statsmodels.iolib.summary.Summary'>\n",
       "\"\"\"\n",
       "                            OLS Regression Results                            \n",
       "==============================================================================\n",
       "Dep. Variable:                      S   R-squared:                       0.999\n",
       "Model:                            OLS   Adj. R-squared:                  0.999\n",
       "Method:                 Least Squares   F-statistic:                     5517.\n",
       "Date:                Wed, 09 Aug 2017   Prob (F-statistic):           1.67e-55\n",
       "Time:                        14:45:34   Log-Likelihood:                -298.74\n",
       "No. Observations:                  46   AIC:                             611.5\n",
       "Df Residuals:                      39   BIC:                             624.3\n",
       "Df Model:                           6                                         \n",
       "Covariance Type:            nonrobust                                         \n",
       "==============================================================================\n",
       "                 coef    std err          t      P>|t|      [0.025      0.975]\n",
       "------------------------------------------------------------------------------\n",
       "Intercept    1.12e+04     79.065    141.698      0.000     1.1e+04    1.14e+04\n",
       "X            496.9870      5.566     89.283      0.000     485.728     508.246\n",
       "E_1        -1730.7483    105.334    -16.431      0.000   -1943.806   -1517.690\n",
       "E_2         -349.0777     97.568     -3.578      0.001    -546.427    -151.728\n",
       "M_1         7047.4120    102.589     68.695      0.000    6839.906    7254.918\n",
       "E_1M_1     -3066.0351    149.330    -20.532      0.000   -3368.084   -2763.986\n",
       "E_2M_1      1836.4879    131.167     14.001      0.000    1571.177    2101.799\n",
       "==============================================================================\n",
       "Omnibus:                       74.761   Durbin-Watson:                   2.244\n",
       "Prob(Omnibus):                  0.000   Jarque-Bera (JB):             1037.873\n",
       "Skew:                          -4.103   Prob(JB):                    4.25e-226\n",
       "Kurtosis:                      24.776   Cond. No.                         83.4\n",
       "==============================================================================\n",
       "\n",
       "Warnings:\n",
       "[1] Standard Errors assume that the covariance matrix of the errors is correctly specified.\n",
       "\"\"\""
      ]
     },
     "execution_count": 143,
     "metadata": {},
     "output_type": "execute_result"
    }
   ],
   "source": [
    "#Multiplicative model\n",
    "lm4 = smf.ols(formula='S~X+E_1+E_2+M_1+E_1M_1+E_2M_1', data=k_2).fit()\n",
    "lm4.summary()"
   ]
  },
  {
   "cell_type": "code",
   "execution_count": 144,
   "metadata": {
    "collapsed": false
   },
   "outputs": [
    {
     "data": {
      "image/png": "[encoded data removed]",
      "text/plain": [
       "<matplotlib.figure.Figure at 0x1d95b6226d8>"
      ]
     },
     "metadata": {},
     "output_type": "display_data"
    }
   ],
   "source": [
    "#Let plot residual plot vs X (Experience)\n",
    "plt.scatter(k_2['X'],lm4.resid)\n",
    "plt.xlabel(\"X\")\n",
    "plt.ylabel(\"residual\")\n",
    "plt.show()"
   ]
  },
  {
   "cell_type": "markdown",
   "metadata": {},
   "source": [
    "In the above graph we can see x=10 there is an outlier, when we observe X=10 in the data we can find four observation related to it, in that the last observation, (observation no 33) the salary is the highest hence it can be possible that observation no 33 is outlier, removing the outlier and rerun the model we can see that the standard deviation has reduced to 67% and R2 has also increased, hence we can see that the mulltiplicative model explains correctly .\n",
    "We can plot residual vs category and we can check that these groups has residual distributed around 0"
   ]
  },
  {
   "cell_type": "code",
   "execution_count": null,
   "metadata": {
    "collapsed": true
   },
   "outputs": [],
   "source": []
  },
  {
   "cell_type": "code",
   "execution_count": null,
   "metadata": {
    "collapsed": true
   },
   "outputs": [],
   "source": []
  },
  {
   "cell_type": "code",
   "execution_count": null,
   "metadata": {
    "collapsed": true
   },
   "outputs": [],
   "source": []
  },
  {
   "cell_type": "code",
   "execution_count": null,
   "metadata": {
    "collapsed": true
   },
   "outputs": [],
   "source": []
  }
 ],
 "metadata": {
  "kernelspec": {
   "display_name": "Python 3",
   "language": "python",
   "name": "python3"
  },
  "language_info": {
   "codemirror_mode": {
    "name": "ipython",
    "version": 3
   },
   "file_extension": ".py",
   "mimetype": "text/x-python",
   "name": "python",
   "nbconvert_exporter": "python",
   "pygments_lexer": "ipython3",
   "version": "3.5.2"
  }
 },
 "nbformat": 4,
 "nbformat_minor": 2
}
